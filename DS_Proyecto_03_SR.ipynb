{
 "cells": [
  {
   "cell_type": "markdown",
   "metadata": {
    "id": "gzJLet17WTzh"
   },
   "source": [
    "# Proyecto 03 - Sistemas de Recomendación\n",
    "\n",
    "## Dataset: STEAM\n",
    "\n",
    "**Recuerda descargar el dataset de [aquí](https://github.com/kang205/SASRec). Son dos archivos, uno de calificaciones y otro de información sobre los juegos.**\n",
    "\n",
    "En este notebook te dejamos unas celdas para que puedas comenzar a trabajar con este dataset. Sin embargo, **deberás** modificarlas para hacer un mejor manejo de datos. Algunas cosas a las que deberás prestar atención (tal vez no a todas):\n",
    "1. Tipos de datos: elige tipos de datos apropiados para cada columna.\n",
    "2. Descartar columnas poco informativas.\n",
    "3. Guardar en memoria datasets preprocesados para no tener que repetir código que tarde en correr.\n",
    "\n",
    "### Exploración de datos\n",
    "\n",
    "Dedícale un buen tiempo a hacer un Análisis Exploratorio de Datos. Elige preguntas que creas que puedas responder con este dataset. Por ejemplo, ¿cuáles son los juegos más populares?¿Y los menos populares?\n",
    "\n",
    "### Filtro Colaborativo\n",
    "\n",
    "Deberás implementar un sistema de recomendación colaborativo para este dataset. Ten en cuenta:\n",
    "\n",
    "1. Haz todas las transformaciones de datos que consideres necesarias. Justifica.\n",
    "1. Evalúa de forma apropiada sus resultados. Justifica la métrica elegida.\n",
    "1. Elige un modelo benchmark y compara tus resultados con este modelo.\n",
    "1. Optimiza los hiperparámetros de tu modelo.\n",
    "\n",
    "Puedes implementar un filtro colaborativo a partir de la similitud coseno o índice de Jaccard. ¿Puedes utilizar los métodos de la librería Surprise? Si no es así, busca implementaciones (por ejemplo, nuevas librerías) que sean apropiadas.\n",
    "\n",
    "Para comenzar a trabajar, puedes asumir que cada entrada es un enlace entre una persona usuaria y un item, **independientemente** de si la crítica es buena o mala. \n",
    "\n",
    "### Para pensar, investigar y, opcionalmente, implementar\n",
    "1. ¿Cómo harías para ponerle un valor a la calificación?\n",
    "1. ¿Cómo harías para agregar contenido? Por ejemplo, cuentas con el género, precio, fecha de lanzamiento y más información de los juegos.\n",
    "1. ¿Hay algo que te gustaría investigar o probar?\n",
    "\n",
    "### **¡Tómate tiempo para investigar y leer mucho!**"
   ]
  },
  {
   "cell_type": "markdown",
   "metadata": {},
   "source": [
    "# Exploración de Datos"
   ]
  },
  {
   "cell_type": "code",
   "execution_count": 2,
   "metadata": {
    "id": "lWZhtUxEWTzj"
   },
   "outputs": [],
   "source": [
    "#Importo las librerias necesarias \n",
    "\n",
    "import gzip\n",
    "import pandas as pd\n",
    "import numpy as np\n",
    "import gc\n",
    "import seaborn as sns\n",
    "import matplotlib.pyplot as plt\n",
    "\n",
    "from surprise import Dataset\n",
    "from surprise import Reader\n",
    "from surprise.model_selection import train_test_split\n",
    "from surprise import SVD\n",
    "from surprise import accuracy\n",
    "from surprise.model_selection import GridSearchCV\n",
    "\n",
    "def parse(path):\n",
    "    g = gzip.open(path, 'r')\n",
    "    for l in g:\n",
    "        yield eval(l)"
   ]
  },
  {
   "cell_type": "markdown",
   "metadata": {
    "id": "BmEM25k4WTzw"
   },
   "source": [
    "# **Reviews**"
   ]
  },
  {
   "cell_type": "code",
   "execution_count": 2,
   "metadata": {
    "id": "abAXItn1WTz0"
   },
   "outputs": [],
   "source": [
    "contador = 0\n",
    "data_reviews = []\n",
    "# Vamos a guardar una de cada 10 reviews para no llenar la memoria RAM. Si pones n = 3, \n",
    "# abrira uno de cada tres, y asi.\n",
    "n = 2\n",
    "for l in parse('D:/Acamica/Clases Acamica/Sprint 3/Proyecto/steam_reviews.json.gz'):\n",
    "    if contador%n == 0:\n",
    "        data_reviews.append(l)\n",
    "    else:\n",
    "        pass\n",
    "    contador += 1\n"
   ]
  },
  {
   "cell_type": "code",
   "execution_count": 4,
   "metadata": {
    "id": "7GovAZQBWTz8"
   },
   "outputs": [],
   "source": [
    "data_reviews = pd.DataFrame(data_reviews)"
   ]
  },
  {
   "cell_type": "code",
   "execution_count": 5,
   "metadata": {
    "id": "j24F0ZaYWT0E"
   },
   "outputs": [
    {
     "data": {
      "text/plain": [
       "(3896535, 12)"
      ]
     },
     "execution_count": 5,
     "metadata": {},
     "output_type": "execute_result"
    }
   ],
   "source": [
    "data_reviews.head()\n",
    "data_reviews.shape"
   ]
  },
  {
   "cell_type": "code",
   "execution_count": 6,
   "metadata": {
    "id": "8F-EVRZ4WT0L"
   },
   "outputs": [
    {
     "data": {
      "text/plain": [
       "username              0\n",
       "hours             13206\n",
       "products           7531\n",
       "product_id            0\n",
       "page_order            0\n",
       "date                  0\n",
       "text                  0\n",
       "early_access          0\n",
       "page                  0\n",
       "found_funny     3296831\n",
       "compensation    3823747\n",
       "user_id         2308752\n",
       "dtype: int64"
      ]
     },
     "execution_count": 6,
     "metadata": {},
     "output_type": "execute_result"
    }
   ],
   "source": [
    "data_reviews.isna().sum()"
   ]
  },
  {
   "cell_type": "markdown",
   "metadata": {},
   "source": [
    "#### Selecciono las columnas que me resulten interesantes para el desarrollo de este Proyecto :\n",
    "\n",
    "1. Descartar columnas poco informativas.\n",
    "1. Tipos de datos: elige tipos de datos apropiados para cada columna.\n",
    "1. Guardar en memoria datasets preprocesados para no tener que repetir código que tarde en correr."
   ]
  },
  {
   "cell_type": "code",
   "execution_count": 7,
   "metadata": {
    "tags": []
   },
   "outputs": [],
   "source": [
    "columnas_descartables = ['date','page','page_order','user_id','compensation','found_funny']\n",
    "data_Rev = data_reviews.drop(columnas_descartables,1)"
   ]
  },
  {
   "cell_type": "code",
   "execution_count": 8,
   "metadata": {},
   "outputs": [
    {
     "data": {
      "text/plain": [
       "(3896535, 6)"
      ]
     },
     "execution_count": 8,
     "metadata": {},
     "output_type": "execute_result"
    }
   ],
   "source": [
    "data_Rev.shape"
   ]
  },
  {
   "cell_type": "code",
   "execution_count": 9,
   "metadata": {
    "tags": []
   },
   "outputs": [
    {
     "data": {
      "text/html": [
       "<div>\n",
       "<style scoped>\n",
       "    .dataframe tbody tr th:only-of-type {\n",
       "        vertical-align: middle;\n",
       "    }\n",
       "\n",
       "    .dataframe tbody tr th {\n",
       "        vertical-align: top;\n",
       "    }\n",
       "\n",
       "    .dataframe thead th {\n",
       "        text-align: right;\n",
       "    }\n",
       "</style>\n",
       "<table border=\"1\" class=\"dataframe\">\n",
       "  <thead>\n",
       "    <tr style=\"text-align: right;\">\n",
       "      <th></th>\n",
       "      <th>username</th>\n",
       "      <th>hours</th>\n",
       "      <th>products</th>\n",
       "      <th>product_id</th>\n",
       "      <th>text</th>\n",
       "      <th>early_access</th>\n",
       "    </tr>\n",
       "  </thead>\n",
       "  <tbody>\n",
       "    <tr>\n",
       "      <th>0</th>\n",
       "      <td>Chaos Syren</td>\n",
       "      <td>0.1</td>\n",
       "      <td>41.0</td>\n",
       "      <td>725280</td>\n",
       "      <td>This would not be acceptable as an entertainme...</td>\n",
       "      <td>False</td>\n",
       "    </tr>\n",
       "    <tr>\n",
       "      <th>1</th>\n",
       "      <td>hello?&lt;</td>\n",
       "      <td>14.6</td>\n",
       "      <td>2.0</td>\n",
       "      <td>328100</td>\n",
       "      <td>Better than Minecraft</td>\n",
       "      <td>False</td>\n",
       "    </tr>\n",
       "  </tbody>\n",
       "</table>\n",
       "</div>"
      ],
      "text/plain": [
       "      username  hours  products product_id  \\\n",
       "0  Chaos Syren    0.1      41.0     725280   \n",
       "1      hello?<   14.6       2.0     328100   \n",
       "\n",
       "                                                text  early_access  \n",
       "0  This would not be acceptable as an entertainme...         False  \n",
       "1                              Better than Minecraft         False  "
      ]
     },
     "execution_count": 9,
     "metadata": {},
     "output_type": "execute_result"
    }
   ],
   "source": [
    "data_Rev.head(2)"
   ]
  },
  {
   "cell_type": "markdown",
   "metadata": {},
   "source": [
    "Elimino los nulos en 'hours' y 'products', para poder convertir los valores a tipos de datos que ocupen menos espacio en memoria."
   ]
  },
  {
   "cell_type": "code",
   "execution_count": 10,
   "metadata": {},
   "outputs": [
    {
     "data": {
      "text/plain": [
       "0"
      ]
     },
     "execution_count": 10,
     "metadata": {},
     "output_type": "execute_result"
    }
   ],
   "source": [
    "data_Rev.dropna(inplace = True)\n",
    "\n",
    "data_Rev['hours'] = data_Rev['hours'].astype(np.float32)\n",
    "data_Rev['products'] = data_Rev['products'].astype(np.uint32)\n",
    "data_Rev['product_id'] = data_Rev['product_id'].astype(np.uint32)\n",
    "\n",
    "gc.collect()"
   ]
  },
  {
   "cell_type": "markdown",
   "metadata": {},
   "source": [
    "Guardo el dataset, ya que la carga del mismo es lenta."
   ]
  },
  {
   "cell_type": "code",
   "execution_count": 11,
   "metadata": {},
   "outputs": [
    {
     "data": {
      "text/plain": [
       "username        0\n",
       "hours           0\n",
       "products        0\n",
       "product_id      0\n",
       "text            0\n",
       "early_access    0\n",
       "dtype: int64"
      ]
     },
     "execution_count": 11,
     "metadata": {},
     "output_type": "execute_result"
    }
   ],
   "source": [
    "data_Rev.isnull().sum()"
   ]
  },
  {
   "cell_type": "code",
   "execution_count": 12,
   "metadata": {},
   "outputs": [],
   "source": [
    "if True:\n",
    "    data_Rev.to_csv(r'D:/Acamica/Clases Acamica/Sprint 3/Proyecto/Datos_1_prueba.csv', index= False)"
   ]
  },
  {
   "cell_type": "markdown",
   "metadata": {},
   "source": [
    "# **Games**"
   ]
  },
  {
   "cell_type": "code",
   "execution_count": 4,
   "metadata": {},
   "outputs": [],
   "source": [
    "data_games = []\n",
    "for l in parse('D:/Acamica/Clases Acamica/Sprint 3/Proyecto/steam_games.json.gz'):\n",
    "    data_games.append(l)\n",
    "data_games = pd.DataFrame(data_games)"
   ]
  },
  {
   "cell_type": "code",
   "execution_count": 5,
   "metadata": {},
   "outputs": [
    {
     "data": {
      "text/plain": [
       "(32135, 16)"
      ]
     },
     "execution_count": 5,
     "metadata": {},
     "output_type": "execute_result"
    }
   ],
   "source": [
    "data_games.shape"
   ]
  },
  {
   "cell_type": "code",
   "execution_count": 26,
   "metadata": {},
   "outputs": [
    {
     "data": {
      "text/html": [
       "<div>\n",
       "<style scoped>\n",
       "    .dataframe tbody tr th:only-of-type {\n",
       "        vertical-align: middle;\n",
       "    }\n",
       "\n",
       "    .dataframe tbody tr th {\n",
       "        vertical-align: top;\n",
       "    }\n",
       "\n",
       "    .dataframe thead th {\n",
       "        text-align: right;\n",
       "    }\n",
       "</style>\n",
       "<table border=\"1\" class=\"dataframe\">\n",
       "  <thead>\n",
       "    <tr style=\"text-align: right;\">\n",
       "      <th></th>\n",
       "      <th>publisher</th>\n",
       "      <th>genres</th>\n",
       "      <th>app_name</th>\n",
       "      <th>title</th>\n",
       "      <th>url</th>\n",
       "      <th>release_date</th>\n",
       "      <th>tags</th>\n",
       "      <th>discount_price</th>\n",
       "      <th>reviews_url</th>\n",
       "      <th>specs</th>\n",
       "      <th>price</th>\n",
       "      <th>early_access</th>\n",
       "      <th>id</th>\n",
       "      <th>developer</th>\n",
       "      <th>sentiment</th>\n",
       "      <th>metascore</th>\n",
       "    </tr>\n",
       "  </thead>\n",
       "  <tbody>\n",
       "    <tr>\n",
       "      <th>4551</th>\n",
       "      <td>Devolver Digital</td>\n",
       "      <td>[Action, Adventure, Casual, Indie]</td>\n",
       "      <td>Broforce</td>\n",
       "      <td>Broforce</td>\n",
       "      <td>http://store.steampowered.com/app/274190/Brofo...</td>\n",
       "      <td>2015-10-15</td>\n",
       "      <td>[America, Action, Pixel Graphics, Co-op, 2D, P...</td>\n",
       "      <td>NaN</td>\n",
       "      <td>http://steamcommunity.com/app/274190/reviews/?...</td>\n",
       "      <td>[Single-player, Multi-player, Co-op, Shared/Sp...</td>\n",
       "      <td>14.99</td>\n",
       "      <td>False</td>\n",
       "      <td>274190</td>\n",
       "      <td>Free Lives</td>\n",
       "      <td>Overwhelmingly Positive</td>\n",
       "      <td>83</td>\n",
       "    </tr>\n",
       "  </tbody>\n",
       "</table>\n",
       "</div>"
      ],
      "text/plain": [
       "             publisher                              genres  app_name  \\\n",
       "4551  Devolver Digital  [Action, Adventure, Casual, Indie]  Broforce   \n",
       "\n",
       "         title                                                url  \\\n",
       "4551  Broforce  http://store.steampowered.com/app/274190/Brofo...   \n",
       "\n",
       "     release_date                                               tags  \\\n",
       "4551   2015-10-15  [America, Action, Pixel Graphics, Co-op, 2D, P...   \n",
       "\n",
       "      discount_price                                        reviews_url  \\\n",
       "4551             NaN  http://steamcommunity.com/app/274190/reviews/?...   \n",
       "\n",
       "                                                  specs  price  early_access  \\\n",
       "4551  [Single-player, Multi-player, Co-op, Shared/Sp...  14.99         False   \n",
       "\n",
       "          id   developer                sentiment metascore  \n",
       "4551  274190  Free Lives  Overwhelmingly Positive        83  "
      ]
     },
     "execution_count": 26,
     "metadata": {},
     "output_type": "execute_result"
    }
   ],
   "source": [
    "data_games[data_games.id == '274190']"
   ]
  },
  {
   "cell_type": "code",
   "execution_count": 27,
   "metadata": {},
   "outputs": [
    {
     "data": {
      "text/plain": [
       "publisher          8052\n",
       "genres             3283\n",
       "app_name              2\n",
       "title              2050\n",
       "url                   0\n",
       "release_date       2067\n",
       "tags                163\n",
       "discount_price    31910\n",
       "reviews_url           2\n",
       "specs               670\n",
       "price              1377\n",
       "early_access          0\n",
       "id                    2\n",
       "developer          3299\n",
       "sentiment          7182\n",
       "metascore         29458\n",
       "dtype: int64"
      ]
     },
     "execution_count": 27,
     "metadata": {},
     "output_type": "execute_result"
    }
   ],
   "source": [
    "data_games.isna().sum()"
   ]
  },
  {
   "cell_type": "code",
   "execution_count": 28,
   "metadata": {},
   "outputs": [],
   "source": [
    "columnas_descartables = ['tags','title','specs','developer','price','discount_price','metascore','reviews_url','early_access','release_date','url','publisher','sentiment']\n",
    "data_Gam = data_games.drop(columnas_descartables,1)"
   ]
  },
  {
   "cell_type": "code",
   "execution_count": 29,
   "metadata": {},
   "outputs": [
    {
     "data": {
      "text/html": [
       "<div>\n",
       "<style scoped>\n",
       "    .dataframe tbody tr th:only-of-type {\n",
       "        vertical-align: middle;\n",
       "    }\n",
       "\n",
       "    .dataframe tbody tr th {\n",
       "        vertical-align: top;\n",
       "    }\n",
       "\n",
       "    .dataframe thead th {\n",
       "        text-align: right;\n",
       "    }\n",
       "</style>\n",
       "<table border=\"1\" class=\"dataframe\">\n",
       "  <thead>\n",
       "    <tr style=\"text-align: right;\">\n",
       "      <th></th>\n",
       "      <th>genres</th>\n",
       "      <th>app_name</th>\n",
       "      <th>id</th>\n",
       "    </tr>\n",
       "  </thead>\n",
       "  <tbody>\n",
       "    <tr>\n",
       "      <th>0</th>\n",
       "      <td>[Action, Casual, Indie, Simulation, Strategy]</td>\n",
       "      <td>Lost Summoner Kitty</td>\n",
       "      <td>761140</td>\n",
       "    </tr>\n",
       "    <tr>\n",
       "      <th>1</th>\n",
       "      <td>[Free to Play, Indie, RPG, Strategy]</td>\n",
       "      <td>Ironbound</td>\n",
       "      <td>643980</td>\n",
       "    </tr>\n",
       "  </tbody>\n",
       "</table>\n",
       "</div>"
      ],
      "text/plain": [
       "                                          genres             app_name      id\n",
       "0  [Action, Casual, Indie, Simulation, Strategy]  Lost Summoner Kitty  761140\n",
       "1           [Free to Play, Indie, RPG, Strategy]            Ironbound  643980"
      ]
     },
     "execution_count": 29,
     "metadata": {},
     "output_type": "execute_result"
    }
   ],
   "source": [
    "data_Gam.head(2)"
   ]
  },
  {
   "cell_type": "code",
   "execution_count": 30,
   "metadata": {},
   "outputs": [
    {
     "data": {
      "text/plain": [
       "dtype('O')"
      ]
     },
     "execution_count": 30,
     "metadata": {},
     "output_type": "execute_result"
    }
   ],
   "source": [
    "data_Gam.id.dtype"
   ]
  },
  {
   "cell_type": "code",
   "execution_count": 31,
   "metadata": {},
   "outputs": [
    {
     "data": {
      "text/html": [
       "<div>\n",
       "<style scoped>\n",
       "    .dataframe tbody tr th:only-of-type {\n",
       "        vertical-align: middle;\n",
       "    }\n",
       "\n",
       "    .dataframe tbody tr th {\n",
       "        vertical-align: top;\n",
       "    }\n",
       "\n",
       "    .dataframe thead th {\n",
       "        text-align: right;\n",
       "    }\n",
       "</style>\n",
       "<table border=\"1\" class=\"dataframe\">\n",
       "  <thead>\n",
       "    <tr style=\"text-align: right;\">\n",
       "      <th></th>\n",
       "      <th>genres</th>\n",
       "      <th>app_name</th>\n",
       "    </tr>\n",
       "    <tr>\n",
       "      <th>id</th>\n",
       "      <th></th>\n",
       "      <th></th>\n",
       "    </tr>\n",
       "  </thead>\n",
       "  <tbody>\n",
       "    <tr>\n",
       "      <th>761140</th>\n",
       "      <td>[Action, Casual, Indie, Simulation, Strategy]</td>\n",
       "      <td>Lost Summoner Kitty</td>\n",
       "    </tr>\n",
       "    <tr>\n",
       "      <th>643980</th>\n",
       "      <td>[Free to Play, Indie, RPG, Strategy]</td>\n",
       "      <td>Ironbound</td>\n",
       "    </tr>\n",
       "    <tr>\n",
       "      <th>670290</th>\n",
       "      <td>[Casual, Free to Play, Indie, Simulation, Sports]</td>\n",
       "      <td>Real Pool 3D - Poolians</td>\n",
       "    </tr>\n",
       "    <tr>\n",
       "      <th>767400</th>\n",
       "      <td>[Action, Adventure, Casual]</td>\n",
       "      <td>弹炸人2222</td>\n",
       "    </tr>\n",
       "    <tr>\n",
       "      <th>773570</th>\n",
       "      <td>NaN</td>\n",
       "      <td>Log Challenge</td>\n",
       "    </tr>\n",
       "  </tbody>\n",
       "</table>\n",
       "</div>"
      ],
      "text/plain": [
       "                                                   genres  \\\n",
       "id                                                          \n",
       "761140      [Action, Casual, Indie, Simulation, Strategy]   \n",
       "643980               [Free to Play, Indie, RPG, Strategy]   \n",
       "670290  [Casual, Free to Play, Indie, Simulation, Sports]   \n",
       "767400                        [Action, Adventure, Casual]   \n",
       "773570                                                NaN   \n",
       "\n",
       "                       app_name  \n",
       "id                               \n",
       "761140      Lost Summoner Kitty  \n",
       "643980                Ironbound  \n",
       "670290  Real Pool 3D - Poolians  \n",
       "767400                  弹炸人2222  \n",
       "773570            Log Challenge  "
      ]
     },
     "execution_count": 31,
     "metadata": {},
     "output_type": "execute_result"
    }
   ],
   "source": [
    "#Convierto la columna 'id' a enteros \n",
    "data_Gam = data_Gam[data_Gam['id'].notna()]\n",
    "data_Gam['id'] = data_Gam['id'].astype(np.uint32)\n",
    "#Pongo la columna 'id' como indice para luego utilizar .loc[]\n",
    "data_Gam.set_index(['id'],inplace = True)\n",
    "data_Gam.head()"
   ]
  },
  {
   "cell_type": "code",
   "execution_count": 32,
   "metadata": {},
   "outputs": [],
   "source": [
    "#Guardo\n",
    "if True:\n",
    "    data_Gam.to_csv(r'D:/Acamica/Clases Acamica/Sprint 3/Proyecto/Datos_2_Games.csv', index= True)   "
   ]
  },
  {
   "cell_type": "markdown",
   "metadata": {},
   "source": [
    "#### Realizare algunos gráficos para implementar una calificación. Debo responder algunas preguntas para usar de guía:\n",
    "   1. ¿Cuáles son los juegos más populares?\n",
    "   1. ¿Cuáles son los usuarios con más horas jugadas?\n",
    "   1. ¿Cuáles son los juegos más utilizados por los usuarios?\n",
    "   1. ¿Cuántos usuarios probaron más de un juego?\n",
    "   1. ¿Qué mediana y media tienen las horas de juego?\n",
    "   1. ¿Qué juegos tienen early access?¿y cuáles son los tiempos jugados medios? "
   ]
  },
  {
   "cell_type": "code",
   "execution_count": 3,
   "metadata": {},
   "outputs": [],
   "source": [
    "#Cargo nuevamente el dataset de Reviews\n",
    "data_Rev = pd.read_csv(r'D:/Acamica/Clases Acamica/Sprint 3/Proyecto/Datos_1_prueba.csv')"
   ]
  },
  {
   "cell_type": "code",
   "execution_count": 4,
   "metadata": {},
   "outputs": [
    {
     "data": {
      "text/html": [
       "<div>\n",
       "<style scoped>\n",
       "    .dataframe tbody tr th:only-of-type {\n",
       "        vertical-align: middle;\n",
       "    }\n",
       "\n",
       "    .dataframe tbody tr th {\n",
       "        vertical-align: top;\n",
       "    }\n",
       "\n",
       "    .dataframe thead th {\n",
       "        text-align: right;\n",
       "    }\n",
       "</style>\n",
       "<table border=\"1\" class=\"dataframe\">\n",
       "  <thead>\n",
       "    <tr style=\"text-align: right;\">\n",
       "      <th></th>\n",
       "      <th>username</th>\n",
       "      <th>hours</th>\n",
       "      <th>products</th>\n",
       "      <th>product_id</th>\n",
       "      <th>text</th>\n",
       "      <th>early_access</th>\n",
       "    </tr>\n",
       "  </thead>\n",
       "  <tbody>\n",
       "    <tr>\n",
       "      <th>0</th>\n",
       "      <td>Chaos Syren</td>\n",
       "      <td>0.1</td>\n",
       "      <td>41</td>\n",
       "      <td>725280</td>\n",
       "      <td>This would not be acceptable as an entertainme...</td>\n",
       "      <td>False</td>\n",
       "    </tr>\n",
       "    <tr>\n",
       "      <th>1</th>\n",
       "      <td>hello?&lt;</td>\n",
       "      <td>14.6</td>\n",
       "      <td>2</td>\n",
       "      <td>328100</td>\n",
       "      <td>Better than Minecraft</td>\n",
       "      <td>False</td>\n",
       "    </tr>\n",
       "  </tbody>\n",
       "</table>\n",
       "</div>"
      ],
      "text/plain": [
       "      username  hours  products  product_id  \\\n",
       "0  Chaos Syren    0.1        41      725280   \n",
       "1      hello?<   14.6         2      328100   \n",
       "\n",
       "                                                text  early_access  \n",
       "0  This would not be acceptable as an entertainme...         False  \n",
       "1                              Better than Minecraft         False  "
      ]
     },
     "execution_count": 4,
     "metadata": {},
     "output_type": "execute_result"
    }
   ],
   "source": [
    "data_Rev.head(2)"
   ]
  },
  {
   "cell_type": "code",
   "execution_count": 14,
   "metadata": {},
   "outputs": [],
   "source": [
    "#Cargo nuevamente el dataset de Games\n",
    "data_Gam = pd.read_csv(r'D:/Acamica/Clases Acamica/Sprint 3/Proyecto/Datos_2_Games.csv',index_col = 'id')"
   ]
  },
  {
   "cell_type": "code",
   "execution_count": 15,
   "metadata": {},
   "outputs": [
    {
     "data": {
      "text/html": [
       "<div>\n",
       "<style scoped>\n",
       "    .dataframe tbody tr th:only-of-type {\n",
       "        vertical-align: middle;\n",
       "    }\n",
       "\n",
       "    .dataframe tbody tr th {\n",
       "        vertical-align: top;\n",
       "    }\n",
       "\n",
       "    .dataframe thead th {\n",
       "        text-align: right;\n",
       "    }\n",
       "</style>\n",
       "<table border=\"1\" class=\"dataframe\">\n",
       "  <thead>\n",
       "    <tr style=\"text-align: right;\">\n",
       "      <th></th>\n",
       "      <th>genres</th>\n",
       "      <th>app_name</th>\n",
       "      <th>tags</th>\n",
       "      <th>specs</th>\n",
       "      <th>developer</th>\n",
       "    </tr>\n",
       "    <tr>\n",
       "      <th>id</th>\n",
       "      <th></th>\n",
       "      <th></th>\n",
       "      <th></th>\n",
       "      <th></th>\n",
       "      <th></th>\n",
       "    </tr>\n",
       "  </thead>\n",
       "  <tbody>\n",
       "    <tr>\n",
       "      <th>761140</th>\n",
       "      <td>['Action', 'Casual', 'Indie', 'Simulation', 'S...</td>\n",
       "      <td>Lost Summoner Kitty</td>\n",
       "      <td>['Strategy', 'Action', 'Indie', 'Casual', 'Sim...</td>\n",
       "      <td>['Single-player']</td>\n",
       "      <td>Kotoshiro</td>\n",
       "    </tr>\n",
       "    <tr>\n",
       "      <th>670290</th>\n",
       "      <td>['Casual', 'Free to Play', 'Indie', 'Simulatio...</td>\n",
       "      <td>Real Pool 3D - Poolians</td>\n",
       "      <td>['Free to Play', 'Simulation', 'Sports', 'Casu...</td>\n",
       "      <td>['Single-player', 'Multi-player', 'Online Mult...</td>\n",
       "      <td>Poolians.com</td>\n",
       "    </tr>\n",
       "  </tbody>\n",
       "</table>\n",
       "</div>"
      ],
      "text/plain": [
       "                                                   genres  \\\n",
       "id                                                          \n",
       "761140  ['Action', 'Casual', 'Indie', 'Simulation', 'S...   \n",
       "670290  ['Casual', 'Free to Play', 'Indie', 'Simulatio...   \n",
       "\n",
       "                       app_name  \\\n",
       "id                                \n",
       "761140      Lost Summoner Kitty   \n",
       "670290  Real Pool 3D - Poolians   \n",
       "\n",
       "                                                     tags  \\\n",
       "id                                                          \n",
       "761140  ['Strategy', 'Action', 'Indie', 'Casual', 'Sim...   \n",
       "670290  ['Free to Play', 'Simulation', 'Sports', 'Casu...   \n",
       "\n",
       "                                                    specs     developer  \n",
       "id                                                                       \n",
       "761140                                  ['Single-player']     Kotoshiro  \n",
       "670290  ['Single-player', 'Multi-player', 'Online Mult...  Poolians.com  "
      ]
     },
     "execution_count": 15,
     "metadata": {},
     "output_type": "execute_result"
    }
   ],
   "source": [
    "data_Gam.head(2)"
   ]
  },
  {
   "cell_type": "markdown",
   "metadata": {},
   "source": [
    "### **1.**"
   ]
  },
  {
   "cell_type": "code",
   "execution_count": 16,
   "metadata": {
    "collapsed": true,
    "jupyter": {
     "outputs_hidden": true
    },
    "tags": []
   },
   "outputs": [
    {
     "name": "stdout",
     "output_type": "stream",
     "text": [
      "Los 10 Juegos más populares: \n",
      "\n"
     ]
    },
    {
     "ename": "KeyError",
     "evalue": "\"Passing list-likes to .loc or [] with any missing labels is no longer supported. The following labels were missing: Int64Index([377160, 271590, 391540, 301520], dtype='int64', name='id'). See https://pandas.pydata.org/pandas-docs/stable/user_guide/indexing.html#deprecate-loc-reindex-listlike\"",
     "output_type": "error",
     "traceback": [
      "\u001b[1;31m---------------------------------------------------------------------------\u001b[0m",
      "\u001b[1;31mKeyError\u001b[0m                                  Traceback (most recent call last)",
      "\u001b[1;32m<ipython-input-16-f76e8f95126a>\u001b[0m in \u001b[0;36m<module>\u001b[1;34m\u001b[0m\n\u001b[0;32m      3\u001b[0m \u001b[0mprint\u001b[0m\u001b[1;33m(\u001b[0m\u001b[1;34m'Los 10 Juegos más populares: \\n'\u001b[0m\u001b[1;33m)\u001b[0m\u001b[1;33m\u001b[0m\u001b[1;33m\u001b[0m\u001b[0m\n\u001b[0;32m      4\u001b[0m \u001b[0mdf_user\u001b[0m \u001b[1;33m=\u001b[0m \u001b[0mdf_user\u001b[0m\u001b[1;33m[\u001b[0m\u001b[1;33m:\u001b[0m\u001b[1;36m10\u001b[0m\u001b[1;33m]\u001b[0m\u001b[1;33m.\u001b[0m\u001b[0mcopy\u001b[0m\u001b[1;33m(\u001b[0m\u001b[1;33m)\u001b[0m\u001b[1;33m\u001b[0m\u001b[1;33m\u001b[0m\u001b[0m\n\u001b[1;32m----> 5\u001b[1;33m \u001b[0mdf_user\u001b[0m\u001b[1;33m[\u001b[0m\u001b[1;33m[\u001b[0m\u001b[1;34m'game'\u001b[0m\u001b[1;33m,\u001b[0m\u001b[1;34m'genres'\u001b[0m\u001b[1;33m]\u001b[0m\u001b[1;33m]\u001b[0m \u001b[1;33m=\u001b[0m \u001b[0mdata_Gam\u001b[0m\u001b[1;33m[\u001b[0m\u001b[1;33m[\u001b[0m\u001b[1;34m'app_name'\u001b[0m\u001b[1;33m,\u001b[0m\u001b[1;34m'genres'\u001b[0m\u001b[1;33m]\u001b[0m\u001b[1;33m]\u001b[0m\u001b[1;33m.\u001b[0m\u001b[0mloc\u001b[0m\u001b[1;33m[\u001b[0m\u001b[0mdf_user\u001b[0m\u001b[1;33m.\u001b[0m\u001b[0mproduct_id\u001b[0m\u001b[1;33m]\u001b[0m\u001b[1;33m.\u001b[0m\u001b[0mvalues\u001b[0m\u001b[1;33m\u001b[0m\u001b[1;33m\u001b[0m\u001b[0m\n\u001b[0m\u001b[0;32m      6\u001b[0m \u001b[0mdf_user\u001b[0m\u001b[1;33m\u001b[0m\u001b[1;33m\u001b[0m\u001b[0m\n",
      "\u001b[1;32mD:\\Programas\\Ananconda\\envs\\datascience\\lib\\site-packages\\pandas\\core\\indexing.py\u001b[0m in \u001b[0;36m__getitem__\u001b[1;34m(self, key)\u001b[0m\n\u001b[0;32m    893\u001b[0m \u001b[1;33m\u001b[0m\u001b[0m\n\u001b[0;32m    894\u001b[0m             \u001b[0mmaybe_callable\u001b[0m \u001b[1;33m=\u001b[0m \u001b[0mcom\u001b[0m\u001b[1;33m.\u001b[0m\u001b[0mapply_if_callable\u001b[0m\u001b[1;33m(\u001b[0m\u001b[0mkey\u001b[0m\u001b[1;33m,\u001b[0m \u001b[0mself\u001b[0m\u001b[1;33m.\u001b[0m\u001b[0mobj\u001b[0m\u001b[1;33m)\u001b[0m\u001b[1;33m\u001b[0m\u001b[1;33m\u001b[0m\u001b[0m\n\u001b[1;32m--> 895\u001b[1;33m             \u001b[1;32mreturn\u001b[0m \u001b[0mself\u001b[0m\u001b[1;33m.\u001b[0m\u001b[0m_getitem_axis\u001b[0m\u001b[1;33m(\u001b[0m\u001b[0mmaybe_callable\u001b[0m\u001b[1;33m,\u001b[0m \u001b[0maxis\u001b[0m\u001b[1;33m=\u001b[0m\u001b[0maxis\u001b[0m\u001b[1;33m)\u001b[0m\u001b[1;33m\u001b[0m\u001b[1;33m\u001b[0m\u001b[0m\n\u001b[0m\u001b[0;32m    896\u001b[0m \u001b[1;33m\u001b[0m\u001b[0m\n\u001b[0;32m    897\u001b[0m     \u001b[1;32mdef\u001b[0m \u001b[0m_is_scalar_access\u001b[0m\u001b[1;33m(\u001b[0m\u001b[0mself\u001b[0m\u001b[1;33m,\u001b[0m \u001b[0mkey\u001b[0m\u001b[1;33m:\u001b[0m \u001b[0mTuple\u001b[0m\u001b[1;33m)\u001b[0m\u001b[1;33m:\u001b[0m\u001b[1;33m\u001b[0m\u001b[1;33m\u001b[0m\u001b[0m\n",
      "\u001b[1;32mD:\\Programas\\Ananconda\\envs\\datascience\\lib\\site-packages\\pandas\\core\\indexing.py\u001b[0m in \u001b[0;36m_getitem_axis\u001b[1;34m(self, key, axis)\u001b[0m\n\u001b[0;32m   1111\u001b[0m                     \u001b[1;32mraise\u001b[0m \u001b[0mValueError\u001b[0m\u001b[1;33m(\u001b[0m\u001b[1;34m\"Cannot index with multidimensional key\"\u001b[0m\u001b[1;33m)\u001b[0m\u001b[1;33m\u001b[0m\u001b[1;33m\u001b[0m\u001b[0m\n\u001b[0;32m   1112\u001b[0m \u001b[1;33m\u001b[0m\u001b[0m\n\u001b[1;32m-> 1113\u001b[1;33m                 \u001b[1;32mreturn\u001b[0m \u001b[0mself\u001b[0m\u001b[1;33m.\u001b[0m\u001b[0m_getitem_iterable\u001b[0m\u001b[1;33m(\u001b[0m\u001b[0mkey\u001b[0m\u001b[1;33m,\u001b[0m \u001b[0maxis\u001b[0m\u001b[1;33m=\u001b[0m\u001b[0maxis\u001b[0m\u001b[1;33m)\u001b[0m\u001b[1;33m\u001b[0m\u001b[1;33m\u001b[0m\u001b[0m\n\u001b[0m\u001b[0;32m   1114\u001b[0m \u001b[1;33m\u001b[0m\u001b[0m\n\u001b[0;32m   1115\u001b[0m             \u001b[1;31m# nested tuple slicing\u001b[0m\u001b[1;33m\u001b[0m\u001b[1;33m\u001b[0m\u001b[1;33m\u001b[0m\u001b[0m\n",
      "\u001b[1;32mD:\\Programas\\Ananconda\\envs\\datascience\\lib\\site-packages\\pandas\\core\\indexing.py\u001b[0m in \u001b[0;36m_getitem_iterable\u001b[1;34m(self, key, axis)\u001b[0m\n\u001b[0;32m   1051\u001b[0m \u001b[1;33m\u001b[0m\u001b[0m\n\u001b[0;32m   1052\u001b[0m         \u001b[1;31m# A collection of keys\u001b[0m\u001b[1;33m\u001b[0m\u001b[1;33m\u001b[0m\u001b[1;33m\u001b[0m\u001b[0m\n\u001b[1;32m-> 1053\u001b[1;33m         \u001b[0mkeyarr\u001b[0m\u001b[1;33m,\u001b[0m \u001b[0mindexer\u001b[0m \u001b[1;33m=\u001b[0m \u001b[0mself\u001b[0m\u001b[1;33m.\u001b[0m\u001b[0m_get_listlike_indexer\u001b[0m\u001b[1;33m(\u001b[0m\u001b[0mkey\u001b[0m\u001b[1;33m,\u001b[0m \u001b[0maxis\u001b[0m\u001b[1;33m,\u001b[0m \u001b[0mraise_missing\u001b[0m\u001b[1;33m=\u001b[0m\u001b[1;32mFalse\u001b[0m\u001b[1;33m)\u001b[0m\u001b[1;33m\u001b[0m\u001b[1;33m\u001b[0m\u001b[0m\n\u001b[0m\u001b[0;32m   1054\u001b[0m         return self.obj._reindex_with_indexers(\n\u001b[0;32m   1055\u001b[0m             \u001b[1;33m{\u001b[0m\u001b[0maxis\u001b[0m\u001b[1;33m:\u001b[0m \u001b[1;33m[\u001b[0m\u001b[0mkeyarr\u001b[0m\u001b[1;33m,\u001b[0m \u001b[0mindexer\u001b[0m\u001b[1;33m]\u001b[0m\u001b[1;33m}\u001b[0m\u001b[1;33m,\u001b[0m \u001b[0mcopy\u001b[0m\u001b[1;33m=\u001b[0m\u001b[1;32mTrue\u001b[0m\u001b[1;33m,\u001b[0m \u001b[0mallow_dups\u001b[0m\u001b[1;33m=\u001b[0m\u001b[1;32mTrue\u001b[0m\u001b[1;33m\u001b[0m\u001b[1;33m\u001b[0m\u001b[0m\n",
      "\u001b[1;32mD:\\Programas\\Ananconda\\envs\\datascience\\lib\\site-packages\\pandas\\core\\indexing.py\u001b[0m in \u001b[0;36m_get_listlike_indexer\u001b[1;34m(self, key, axis, raise_missing)\u001b[0m\n\u001b[0;32m   1264\u001b[0m             \u001b[0mkeyarr\u001b[0m\u001b[1;33m,\u001b[0m \u001b[0mindexer\u001b[0m\u001b[1;33m,\u001b[0m \u001b[0mnew_indexer\u001b[0m \u001b[1;33m=\u001b[0m \u001b[0max\u001b[0m\u001b[1;33m.\u001b[0m\u001b[0m_reindex_non_unique\u001b[0m\u001b[1;33m(\u001b[0m\u001b[0mkeyarr\u001b[0m\u001b[1;33m)\u001b[0m\u001b[1;33m\u001b[0m\u001b[1;33m\u001b[0m\u001b[0m\n\u001b[0;32m   1265\u001b[0m \u001b[1;33m\u001b[0m\u001b[0m\n\u001b[1;32m-> 1266\u001b[1;33m         \u001b[0mself\u001b[0m\u001b[1;33m.\u001b[0m\u001b[0m_validate_read_indexer\u001b[0m\u001b[1;33m(\u001b[0m\u001b[0mkeyarr\u001b[0m\u001b[1;33m,\u001b[0m \u001b[0mindexer\u001b[0m\u001b[1;33m,\u001b[0m \u001b[0maxis\u001b[0m\u001b[1;33m,\u001b[0m \u001b[0mraise_missing\u001b[0m\u001b[1;33m=\u001b[0m\u001b[0mraise_missing\u001b[0m\u001b[1;33m)\u001b[0m\u001b[1;33m\u001b[0m\u001b[1;33m\u001b[0m\u001b[0m\n\u001b[0m\u001b[0;32m   1267\u001b[0m         \u001b[1;32mreturn\u001b[0m \u001b[0mkeyarr\u001b[0m\u001b[1;33m,\u001b[0m \u001b[0mindexer\u001b[0m\u001b[1;33m\u001b[0m\u001b[1;33m\u001b[0m\u001b[0m\n\u001b[0;32m   1268\u001b[0m \u001b[1;33m\u001b[0m\u001b[0m\n",
      "\u001b[1;32mD:\\Programas\\Ananconda\\envs\\datascience\\lib\\site-packages\\pandas\\core\\indexing.py\u001b[0m in \u001b[0;36m_validate_read_indexer\u001b[1;34m(self, key, indexer, axis, raise_missing)\u001b[0m\n\u001b[0;32m   1319\u001b[0m \u001b[1;33m\u001b[0m\u001b[0m\n\u001b[0;32m   1320\u001b[0m             \u001b[1;32mwith\u001b[0m \u001b[0moption_context\u001b[0m\u001b[1;33m(\u001b[0m\u001b[1;34m\"display.max_seq_items\"\u001b[0m\u001b[1;33m,\u001b[0m \u001b[1;36m10\u001b[0m\u001b[1;33m,\u001b[0m \u001b[1;34m\"display.width\"\u001b[0m\u001b[1;33m,\u001b[0m \u001b[1;36m80\u001b[0m\u001b[1;33m)\u001b[0m\u001b[1;33m:\u001b[0m\u001b[1;33m\u001b[0m\u001b[1;33m\u001b[0m\u001b[0m\n\u001b[1;32m-> 1321\u001b[1;33m                 raise KeyError(\n\u001b[0m\u001b[0;32m   1322\u001b[0m                     \u001b[1;34m\"Passing list-likes to .loc or [] with any missing labels \"\u001b[0m\u001b[1;33m\u001b[0m\u001b[1;33m\u001b[0m\u001b[0m\n\u001b[0;32m   1323\u001b[0m                     \u001b[1;34m\"is no longer supported. \"\u001b[0m\u001b[1;33m\u001b[0m\u001b[1;33m\u001b[0m\u001b[0m\n",
      "\u001b[1;31mKeyError\u001b[0m: \"Passing list-likes to .loc or [] with any missing labels is no longer supported. The following labels were missing: Int64Index([377160, 271590, 391540, 301520], dtype='int64', name='id'). See https://pandas.pydata.org/pandas-docs/stable/user_guide/indexing.html#deprecate-loc-reindex-listlike\""
     ]
    }
   ],
   "source": [
    "#Considero a los juegos más populares los que más veces se reiteran en 'product_id'\n",
    "df_user = pd.DataFrame(np.c_[data_Rev.product_id.value_counts(),data_Rev.product_id.value_counts().index],columns = ['review','product_id'],dtype='int32')\n",
    "print('Los 10 Juegos más populares: \\n')\n",
    "df_user = df_user[:10].copy()\n",
    "df_user[['game','genres']] = data_Gam[['app_name','genres']].loc[df_user.product_id].values\n",
    "df_user"
   ]
  },
  {
   "cell_type": "markdown",
   "metadata": {},
   "source": [
    "### **2.**"
   ]
  },
  {
   "cell_type": "code",
   "execution_count": 7,
   "metadata": {},
   "outputs": [],
   "source": [
    "grouped = data_Rev.groupby('username')\n",
    "time_user = pd.DataFrame(grouped['hours'].agg(np.sum))"
   ]
  },
  {
   "cell_type": "code",
   "execution_count": 8,
   "metadata": {},
   "outputs": [
    {
     "name": "stdout",
     "output_type": "stream",
     "text": [
      "Usuarios con más y menos horas de juego\n"
     ]
    },
    {
     "data": {
      "text/html": [
       "<div>\n",
       "<style scoped>\n",
       "    .dataframe tbody tr th:only-of-type {\n",
       "        vertical-align: middle;\n",
       "    }\n",
       "\n",
       "    .dataframe tbody tr th {\n",
       "        vertical-align: top;\n",
       "    }\n",
       "\n",
       "    .dataframe thead th {\n",
       "        text-align: right;\n",
       "    }\n",
       "</style>\n",
       "<table border=\"1\" class=\"dataframe\">\n",
       "  <thead>\n",
       "    <tr style=\"text-align: right;\">\n",
       "      <th></th>\n",
       "      <th>hours</th>\n",
       "      <th>username</th>\n",
       "    </tr>\n",
       "  </thead>\n",
       "  <tbody>\n",
       "    <tr>\n",
       "      <th>0</th>\n",
       "      <td>553184.1</td>\n",
       "      <td>123</td>\n",
       "    </tr>\n",
       "    <tr>\n",
       "      <th>1</th>\n",
       "      <td>73682.5</td>\n",
       "      <td>947183 / Terrix - Hourboost.com</td>\n",
       "    </tr>\n",
       "    <tr>\n",
       "      <th>2</th>\n",
       "      <td>65646.3</td>\n",
       "      <td>SLAPY</td>\n",
       "    </tr>\n",
       "    <tr>\n",
       "      <th>3</th>\n",
       "      <td>65423.4</td>\n",
       "      <td>Tuong</td>\n",
       "    </tr>\n",
       "    <tr>\n",
       "      <th>4</th>\n",
       "      <td>59227.4</td>\n",
       "      <td>Ayase | FF15 HYPE</td>\n",
       "    </tr>\n",
       "    <tr>\n",
       "      <th>...</th>\n",
       "      <td>...</td>\n",
       "      <td>...</td>\n",
       "    </tr>\n",
       "    <tr>\n",
       "      <th>1309818</th>\n",
       "      <td>0.0</td>\n",
       "      <td>THEYUBBS</td>\n",
       "    </tr>\n",
       "    <tr>\n",
       "      <th>1309819</th>\n",
       "      <td>0.0</td>\n",
       "      <td>n0vyn0vyn0vyn0vygod</td>\n",
       "    </tr>\n",
       "    <tr>\n",
       "      <th>1309820</th>\n",
       "      <td>0.0</td>\n",
       "      <td>BigBrandonBear</td>\n",
       "    </tr>\n",
       "    <tr>\n",
       "      <th>1309821</th>\n",
       "      <td>0.0</td>\n",
       "      <td>Stormagettion</td>\n",
       "    </tr>\n",
       "    <tr>\n",
       "      <th>1309822</th>\n",
       "      <td>0.0</td>\n",
       "      <td>Lennell_The_God</td>\n",
       "    </tr>\n",
       "  </tbody>\n",
       "</table>\n",
       "<p>1309823 rows × 2 columns</p>\n",
       "</div>"
      ],
      "text/plain": [
       "            hours                         username\n",
       "0        553184.1                              123\n",
       "1         73682.5  947183 / Terrix - Hourboost.com\n",
       "2         65646.3                            SLAPY\n",
       "3         65423.4                            Tuong\n",
       "4         59227.4                Ayase | FF15 HYPE\n",
       "...           ...                              ...\n",
       "1309818       0.0                         THEYUBBS\n",
       "1309819       0.0              n0vyn0vyn0vyn0vygod\n",
       "1309820       0.0                   BigBrandonBear\n",
       "1309821       0.0                    Stormagettion\n",
       "1309822       0.0                  Lennell_The_God\n",
       "\n",
       "[1309823 rows x 2 columns]"
      ]
     },
     "execution_count": 8,
     "metadata": {},
     "output_type": "execute_result"
    }
   ],
   "source": [
    "print('Usuarios con más y menos horas de juego')\n",
    "df_time = time_user.sort_values(by='hours',ascending=False)\n",
    "df_time['username']= df_time.index\n",
    "df_time = df_time.reset_index(drop=True)\n",
    "df_time\n"
   ]
  },
  {
   "cell_type": "markdown",
   "metadata": {},
   "source": [
    "Observo que tengo usuarios que han calificado juegos y no los han jugado."
   ]
  },
  {
   "cell_type": "code",
   "execution_count": 9,
   "metadata": {},
   "outputs": [],
   "source": [
    "#Elimino los usuarios que no han jugado \n",
    "mask = data_Rev.hours != 0\n",
    "data_Rev = data_Rev[mask]"
   ]
  },
  {
   "cell_type": "markdown",
   "metadata": {},
   "source": [
    "### **3.**"
   ]
  },
  {
   "cell_type": "code",
   "execution_count": 10,
   "metadata": {},
   "outputs": [],
   "source": [
    "groupe = data_Rev.groupby('product_id')\n",
    "time_game = pd.DataFrame(groupe['hours'].agg(np.sum))"
   ]
  },
  {
   "cell_type": "code",
   "execution_count": 13,
   "metadata": {},
   "outputs": [
    {
     "name": "stdout",
     "output_type": "stream",
     "text": [
      "Juegos con más horas\n"
     ]
    },
    {
     "data": {
      "text/html": [
       "<div>\n",
       "<style scoped>\n",
       "    .dataframe tbody tr th:only-of-type {\n",
       "        vertical-align: middle;\n",
       "    }\n",
       "\n",
       "    .dataframe tbody tr th {\n",
       "        vertical-align: top;\n",
       "    }\n",
       "\n",
       "    .dataframe thead th {\n",
       "        text-align: right;\n",
       "    }\n",
       "</style>\n",
       "<table border=\"1\" class=\"dataframe\">\n",
       "  <thead>\n",
       "    <tr style=\"text-align: right;\">\n",
       "      <th></th>\n",
       "      <th>hours</th>\n",
       "      <th>product_id</th>\n",
       "      <th>game</th>\n",
       "      <th>genres</th>\n",
       "    </tr>\n",
       "  </thead>\n",
       "  <tbody>\n",
       "    <tr>\n",
       "      <th>0</th>\n",
       "      <td>44845013.0</td>\n",
       "      <td>440</td>\n",
       "      <td>Team Fortress 2</td>\n",
       "      <td>['Action', 'Free to Play']</td>\n",
       "    </tr>\n",
       "    <tr>\n",
       "      <th>1</th>\n",
       "      <td>14573417.7</td>\n",
       "      <td>252490</td>\n",
       "      <td>Rust</td>\n",
       "      <td>['Action', 'Adventure', 'Indie', 'Massively Mu...</td>\n",
       "    </tr>\n",
       "    <tr>\n",
       "      <th>2</th>\n",
       "      <td>10996795.3</td>\n",
       "      <td>230410</td>\n",
       "      <td>Warframe</td>\n",
       "      <td>['Action', 'Free to Play']</td>\n",
       "    </tr>\n",
       "    <tr>\n",
       "      <th>3</th>\n",
       "      <td>9075150.2</td>\n",
       "      <td>4000</td>\n",
       "      <td>Garry's Mod</td>\n",
       "      <td>['Indie', 'Simulation']</td>\n",
       "    </tr>\n",
       "    <tr>\n",
       "      <th>4</th>\n",
       "      <td>8505421.4</td>\n",
       "      <td>107410</td>\n",
       "      <td>Arma 3</td>\n",
       "      <td>['Action', 'Simulation', 'Strategy']</td>\n",
       "    </tr>\n",
       "    <tr>\n",
       "      <th>5</th>\n",
       "      <td>7516176.9</td>\n",
       "      <td>346110</td>\n",
       "      <td>ARK: Survival Evolved</td>\n",
       "      <td>['Action', 'Adventure', 'Indie', 'Massively Mu...</td>\n",
       "    </tr>\n",
       "    <tr>\n",
       "      <th>6</th>\n",
       "      <td>5356419.2</td>\n",
       "      <td>377160</td>\n",
       "      <td>Fallout 4</td>\n",
       "      <td>['RPG']</td>\n",
       "    </tr>\n",
       "    <tr>\n",
       "      <th>7</th>\n",
       "      <td>4953280.6</td>\n",
       "      <td>48700</td>\n",
       "      <td>Mount &amp; Blade: Warband</td>\n",
       "      <td>['Action', 'RPG']</td>\n",
       "    </tr>\n",
       "    <tr>\n",
       "      <th>8</th>\n",
       "      <td>4518933.6</td>\n",
       "      <td>240</td>\n",
       "      <td>Counter-Strike: Source</td>\n",
       "      <td>['Action']</td>\n",
       "    </tr>\n",
       "    <tr>\n",
       "      <th>9</th>\n",
       "      <td>4390058.6</td>\n",
       "      <td>221100</td>\n",
       "      <td>DayZ</td>\n",
       "      <td>['Action', 'Indie', 'Massively Multiplayer', '...</td>\n",
       "    </tr>\n",
       "  </tbody>\n",
       "</table>\n",
       "</div>"
      ],
      "text/plain": [
       "        hours  product_id                    game  \\\n",
       "0  44845013.0         440         Team Fortress 2   \n",
       "1  14573417.7      252490                    Rust   \n",
       "2  10996795.3      230410                Warframe   \n",
       "3   9075150.2        4000             Garry's Mod   \n",
       "4   8505421.4      107410                  Arma 3   \n",
       "5   7516176.9      346110   ARK: Survival Evolved   \n",
       "6   5356419.2      377160               Fallout 4   \n",
       "7   4953280.6       48700  Mount & Blade: Warband   \n",
       "8   4518933.6         240  Counter-Strike: Source   \n",
       "9   4390058.6      221100                    DayZ   \n",
       "\n",
       "                                              genres  \n",
       "0                         ['Action', 'Free to Play']  \n",
       "1  ['Action', 'Adventure', 'Indie', 'Massively Mu...  \n",
       "2                         ['Action', 'Free to Play']  \n",
       "3                            ['Indie', 'Simulation']  \n",
       "4               ['Action', 'Simulation', 'Strategy']  \n",
       "5  ['Action', 'Adventure', 'Indie', 'Massively Mu...  \n",
       "6                                            ['RPG']  \n",
       "7                                  ['Action', 'RPG']  \n",
       "8                                         ['Action']  \n",
       "9  ['Action', 'Indie', 'Massively Multiplayer', '...  "
      ]
     },
     "execution_count": 13,
     "metadata": {},
     "output_type": "execute_result"
    }
   ],
   "source": [
    "print('Juegos con más horas')\n",
    "df_game = time_game.sort_values(by='hours',ascending=False)\n",
    "df_game['product_id']= df_game.index\n",
    "df_game = df_game.reset_index(drop=True)\n",
    "df_game = df_game[:10].copy()\n",
    "df_game[['game','genres']] = data_Gam[['app_name','genres']].loc[df_game.product_id].values\n",
    "df_game"
   ]
  },
  {
   "cell_type": "markdown",
   "metadata": {},
   "source": [
    "### **4.**"
   ]
  },
  {
   "cell_type": "code",
   "execution_count": 26,
   "metadata": {},
   "outputs": [
    {
     "name": "stdout",
     "output_type": "stream",
     "text": [
      "El porcentaje de usuarios que probaron más de un juegos es:\n",
      "55.92023871108399 %\n"
     ]
    }
   ],
   "source": [
    "print('El porcentaje de usuarios que probaron más de un juegos es:')\n",
    "print(((len(data_Rev.username)-len(data_Rev.username.unique()))*100)/len(data_Rev.username),'%')"
   ]
  },
  {
   "cell_type": "markdown",
   "metadata": {},
   "source": [
    "Un porcentaje muy bajo lo cual nos puede traer el problema de arranque en frio en el sistema de recomendación."
   ]
  },
  {
   "cell_type": "markdown",
   "metadata": {},
   "source": [
    "Un grafico pairplot es una buena muestra de la distribucion de variables."
   ]
  },
  {
   "cell_type": "code",
   "execution_count": 10,
   "metadata": {},
   "outputs": [
    {
     "data": {
      "text/plain": [
       "<seaborn.axisgrid.PairGrid at 0x18bb47a5af0>"
      ]
     },
     "execution_count": 10,
     "metadata": {},
     "output_type": "execute_result"
    },
    {
     "data": {
      "image/png": "[encoded data removed]",
      "text/plain": [
       "<Figure size 540x540 with 12 Axes>"
      ]
     },
     "metadata": {
      "needs_background": "light"
     },
     "output_type": "display_data"
    }
   ],
   "source": [
    "sns.pairplot(data_Rev)"
   ]
  },
  {
   "cell_type": "markdown",
   "metadata": {},
   "source": [
    "- Observo con claridad que los usuarios con más de 1000 productos tienen menos de 2000hs jugadas y los usuarios con grandes cantidades de horas jugadas tienen menos cantidad de productos.\n",
    "- Mas alto el 'product_id', menos jugadores tiene.\n",
    "- Existen usuarios con tiempos de juego muy altos.\n",
    " "
   ]
  },
  {
   "cell_type": "code",
   "execution_count": 17,
   "metadata": {},
   "outputs": [],
   "source": [
    "#Hago una copia para el analisis\n",
    "dato = data_Rev.copy()"
   ]
  },
  {
   "cell_type": "code",
   "execution_count": 18,
   "metadata": {},
   "outputs": [
    {
     "data": {
      "text/plain": [
       "(3875815, 6)"
      ]
     },
     "execution_count": 18,
     "metadata": {},
     "output_type": "execute_result"
    }
   ],
   "source": [
    "data_Rev.shape"
   ]
  },
  {
   "cell_type": "code",
   "execution_count": 37,
   "metadata": {},
   "outputs": [
    {
     "data": {
      "image/png": "[encoded data removed]",
      "text/plain": [
       "<Figure size 720x216 with 1 Axes>"
      ]
     },
     "metadata": {
      "needs_background": "light"
     },
     "output_type": "display_data"
    }
   ],
   "source": [
    "plt.figure(figsize=(10,3))\n",
    "sns.boxplot(data = dato, x = 'hours')          \n",
    "plt.xlabel('\\n ~Horas~') \n",
    "plt.show()"
   ]
  },
  {
   "cell_type": "markdown",
   "metadata": {},
   "source": [
    "Vemos como ciertos valores generan outliers, aplico la regla de las Tres sigmas.\n"
   ]
  },
  {
   "cell_type": "code",
   "execution_count": 38,
   "metadata": {},
   "outputs": [],
   "source": [
    "#defino una funcion que aplica la regla de las Tres Simas\n",
    "def remove_outliers_TS(df, column_name, sigma):\n",
    "    valor_medio = df[column_name].mean()\n",
    "    std = df[column_name].std()\n",
    "    minimo = valor_medio - sigma*std\n",
    "    maximo = valor_medio + sigma*std\n",
    "    mascara_outliers = np.logical_or(df[column_name] < minimo, df[column_name] > maximo)\n",
    "    print('Datos eliminados:')\n",
    "    print(mascara_outliers.sum() / len(mascara_outliers) * 100,'%')\n",
    "    df = df[~mascara_outliers]\n",
    "    return df"
   ]
  },
  {
   "cell_type": "code",
   "execution_count": 39,
   "metadata": {},
   "outputs": [
    {
     "name": "stdout",
     "output_type": "stream",
     "text": [
      "Datos eliminados:\n",
      "1.6154675373151666 %\n"
     ]
    }
   ],
   "source": [
    "dato = remove_outliers_TS(dato,'hours',3)"
   ]
  },
  {
   "cell_type": "markdown",
   "metadata": {},
   "source": [
    "Al aplicar la regla de las tres sigmas estoy omitiendo el 1.61% de datos, los outliers de varias horas jugadas me interesan así que solo los omito en este análisis. Voy a implementar una calificación que dependerá de las horas que el usuario utilizo el juego."
   ]
  },
  {
   "cell_type": "code",
   "execution_count": 40,
   "metadata": {},
   "outputs": [
    {
     "data": {
      "image/png": "[encoded data removed]",
      "text/plain": [
       "<Figure size 648x216 with 1 Axes>"
      ]
     },
     "metadata": {
      "needs_background": "light"
     },
     "output_type": "display_data"
    }
   ],
   "source": [
    "plt.figure(figsize=(9,3))\n",
    "sns.boxplot(data = dato, x = 'hours')          \n",
    "plt.xlabel('\\n ~Horas~') \n",
    "plt.show()"
   ]
  },
  {
   "cell_type": "markdown",
   "metadata": {},
   "source": [
    "### **5.**"
   ]
  },
  {
   "cell_type": "code",
   "execution_count": 41,
   "metadata": {},
   "outputs": [
    {
     "name": "stdout",
     "output_type": "stream",
     "text": [
      "Mediana de horas con filtrado:  14.8\n",
      "Mediana de horas sin filtrado:  15.4\n",
      "Media de horas con filtrado:  73.68798874403502\n",
      "Media de horas sin filtrado:  112.21756848535354\n",
      "Varianza de horas con filtrado:  165.88020983700844\n",
      "Varianza de horas sin filtrado:  396.94743267288516\n"
     ]
    }
   ],
   "source": [
    "print('Mediana de horas con filtrado: ',dato.hours.median())\n",
    "print('Mediana de horas sin filtrado: ',data_Rev.hours.median())\n",
    "print('Media de horas con filtrado: ',dato.hours.mean())\n",
    "print('Media de horas sin filtrado: ',data_Rev.hours.mean())\n",
    "print('Varianza de horas con filtrado: ',dato.hours.std())\n",
    "print('Varianza de horas sin filtrado: ',data_Rev.hours.std())"
   ]
  },
  {
   "cell_type": "code",
   "execution_count": 42,
   "metadata": {},
   "outputs": [
    {
     "data": {
      "text/plain": [
       "(array([0.5, 1.5, 2.5, 3.5]),\n",
       " [Text(0, 0.5, 'hours'),\n",
       "  Text(0, 1.5, 'products'),\n",
       "  Text(0, 2.5, 'product_id'),\n",
       "  Text(0, 3.5, 'early_access')])"
      ]
     },
     "execution_count": 42,
     "metadata": {},
     "output_type": "execute_result"
    },
    {
     "data": {
      "image/png": "[encoded data removed]",
      "text/plain": [
       "<Figure size 576x576 with 2 Axes>"
      ]
     },
     "metadata": {
      "needs_background": "light"
     },
     "output_type": "display_data"
    }
   ],
   "source": [
    "corr = dato.corr()\n",
    "corr\n",
    "\n",
    "plt.figure(figsize=(8,8))\n",
    "sns.heatmap(corr, cbar = True,  square = True, annot=True, fmt= '.2f',annot_kws={'size': 15},\n",
    "             xticklabels= corr.columns.values, \n",
    "             yticklabels= corr.columns.values, cmap= 'PuBu')\n",
    "plt.title('Mapa de Correlacion\\n')\n",
    "plt.xticks(rotation = 45)\n",
    "plt.yticks(rotation = 45)"
   ]
  },
  {
   "cell_type": "markdown",
   "metadata": {},
   "source": [
    "No hay gran correlacion entre los variables, la mayor correlacion es entre 'early_access' y 'product_id'"
   ]
  },
  {
   "cell_type": "markdown",
   "metadata": {},
   "source": [
    "### **6.**"
   ]
  },
  {
   "cell_type": "code",
   "execution_count": 47,
   "metadata": {},
   "outputs": [
    {
     "name": "stdout",
     "output_type": "stream",
     "text": [
      "la mediana con early_access 24.9\n",
      "la media con early_access 142.62892574703508\n"
     ]
    }
   ],
   "source": [
    "dat = data_Rev[data_Rev.early_access == True]\n",
    "#dat = dat.hours.sort_values(ascending=False)\n",
    "print('la mediana con early_access',dat.hours.median())\n",
    "print('la media con early_access',dat.hours.mean())\n",
    "#dat.head(5)"
   ]
  },
  {
   "cell_type": "markdown",
   "metadata": {},
   "source": [
    "Evaluo los comentarios de algunos juegos con mas de 4hs y menos de 70hs jugadas, considero que es una zona importante por los valores de media y mediana obtenidos."
   ]
  },
  {
   "cell_type": "code",
   "execution_count": 19,
   "metadata": {},
   "outputs": [],
   "source": [
    "mask = np.logical_and(dato.hours < 70 ,dato.hours > 4)\n",
    "dato = dato[mask]"
   ]
  },
  {
   "cell_type": "code",
   "execution_count": 20,
   "metadata": {},
   "outputs": [
    {
     "data": {
      "text/html": [
       "<div>\n",
       "<style scoped>\n",
       "    .dataframe tbody tr th:only-of-type {\n",
       "        vertical-align: middle;\n",
       "    }\n",
       "\n",
       "    .dataframe tbody tr th {\n",
       "        vertical-align: top;\n",
       "    }\n",
       "\n",
       "    .dataframe thead th {\n",
       "        text-align: right;\n",
       "    }\n",
       "</style>\n",
       "<table border=\"1\" class=\"dataframe\">\n",
       "  <thead>\n",
       "    <tr style=\"text-align: right;\">\n",
       "      <th></th>\n",
       "      <th>username</th>\n",
       "      <th>hours</th>\n",
       "      <th>products</th>\n",
       "      <th>product_id</th>\n",
       "      <th>text</th>\n",
       "      <th>early_access</th>\n",
       "    </tr>\n",
       "  </thead>\n",
       "  <tbody>\n",
       "    <tr>\n",
       "      <th>1</th>\n",
       "      <td>hello?&lt;</td>\n",
       "      <td>14.600000</td>\n",
       "      <td>2</td>\n",
       "      <td>328100</td>\n",
       "      <td>Better than Minecraft</td>\n",
       "      <td>False</td>\n",
       "    </tr>\n",
       "    <tr>\n",
       "      <th>2</th>\n",
       "      <td>DarklyThinking</td>\n",
       "      <td>16.600000</td>\n",
       "      <td>577</td>\n",
       "      <td>35140</td>\n",
       "      <td>Still worth playing in 2018.\\nProbably my favo...</td>\n",
       "      <td>False</td>\n",
       "    </tr>\n",
       "    <tr>\n",
       "      <th>5</th>\n",
       "      <td>Ariman1</td>\n",
       "      <td>13.200000</td>\n",
       "      <td>1386</td>\n",
       "      <td>328100</td>\n",
       "      <td>Addictive RPG ! Works fine on linux though it ...</td>\n",
       "      <td>False</td>\n",
       "    </tr>\n",
       "    <tr>\n",
       "      <th>7</th>\n",
       "      <td>Coby</td>\n",
       "      <td>8.900000</td>\n",
       "      <td>227</td>\n",
       "      <td>35140</td>\n",
       "      <td>Finished the game around 6 hours. Thats only t...</td>\n",
       "      <td>False</td>\n",
       "    </tr>\n",
       "    <tr>\n",
       "      <th>8</th>\n",
       "      <td>The Undead StalkeR</td>\n",
       "      <td>17.000000</td>\n",
       "      <td>87</td>\n",
       "      <td>35140</td>\n",
       "      <td>9/10\\nEven after all these years. this game re...</td>\n",
       "      <td>False</td>\n",
       "    </tr>\n",
       "    <tr>\n",
       "      <th>12</th>\n",
       "      <td>tredain</td>\n",
       "      <td>8.400000</td>\n",
       "      <td>182</td>\n",
       "      <td>35600</td>\n",
       "      <td>Cute game with a decent length and some real b...</td>\n",
       "      <td>False</td>\n",
       "    </tr>\n",
       "    <tr>\n",
       "      <th>13</th>\n",
       "      <td>9kfreemen</td>\n",
       "      <td>6.500000</td>\n",
       "      <td>1147</td>\n",
       "      <td>328100</td>\n",
       "      <td>Well, I'm about 4 hours into the game, but I t...</td>\n",
       "      <td>False</td>\n",
       "    </tr>\n",
       "    <tr>\n",
       "      <th>15</th>\n",
       "      <td>The_Cpt_FROGGY</td>\n",
       "      <td>7.800000</td>\n",
       "      <td>2217</td>\n",
       "      <td>631920</td>\n",
       "      <td>Somewhere on Zibylon:\\n~~~~~~~~~~~~~~~~~~\\nZib...</td>\n",
       "      <td>False</td>\n",
       "    </tr>\n",
       "    <tr>\n",
       "      <th>16</th>\n",
       "      <td>Mono</td>\n",
       "      <td>14.100000</td>\n",
       "      <td>54</td>\n",
       "      <td>506510</td>\n",
       "      <td>A Charming game with colourful pixel graphics ...</td>\n",
       "      <td>False</td>\n",
       "    </tr>\n",
       "    <tr>\n",
       "      <th>18</th>\n",
       "      <td>Kodyd194</td>\n",
       "      <td>5.000000</td>\n",
       "      <td>181</td>\n",
       "      <td>431320</td>\n",
       "      <td>Recourse Demo, overall it seemed pretty beefy ...</td>\n",
       "      <td>False</td>\n",
       "    </tr>\n",
       "    <tr>\n",
       "      <th>19</th>\n",
       "      <td>『Hatate Himekaidou』</td>\n",
       "      <td>16.100000</td>\n",
       "      <td>603</td>\n",
       "      <td>745880</td>\n",
       "      <td>Support your local shrine maiden today!</td>\n",
       "      <td>False</td>\n",
       "    </tr>\n",
       "    <tr>\n",
       "      <th>20</th>\n",
       "      <td>the_maker988</td>\n",
       "      <td>8.200000</td>\n",
       "      <td>18</td>\n",
       "      <td>35140</td>\n",
       "      <td>This game was way to linear for me, and compar...</td>\n",
       "      <td>False</td>\n",
       "    </tr>\n",
       "    <tr>\n",
       "      <th>21</th>\n",
       "      <td>Musk</td>\n",
       "      <td>9.500000</td>\n",
       "      <td>1172</td>\n",
       "      <td>35140</td>\n",
       "      <td>\"The choke's on you!\"\\n- Joker</td>\n",
       "      <td>False</td>\n",
       "    </tr>\n",
       "    <tr>\n",
       "      <th>23</th>\n",
       "      <td>Wungle</td>\n",
       "      <td>7.600000</td>\n",
       "      <td>617</td>\n",
       "      <td>365560</td>\n",
       "      <td>almost like a puzzle.</td>\n",
       "      <td>False</td>\n",
       "    </tr>\n",
       "    <tr>\n",
       "      <th>36</th>\n",
       "      <td>EdenStarGazer</td>\n",
       "      <td>16.799999</td>\n",
       "      <td>1044</td>\n",
       "      <td>631920</td>\n",
       "      <td>You play the game in 3rd person view as a smal...</td>\n",
       "      <td>False</td>\n",
       "    </tr>\n",
       "  </tbody>\n",
       "</table>\n",
       "</div>"
      ],
      "text/plain": [
       "               username      hours  products  product_id  \\\n",
       "1               hello?<  14.600000         2      328100   \n",
       "2        DarklyThinking  16.600000       577       35140   \n",
       "5               Ariman1  13.200000      1386      328100   \n",
       "7                  Coby   8.900000       227       35140   \n",
       "8    The Undead StalkeR  17.000000        87       35140   \n",
       "12              tredain   8.400000       182       35600   \n",
       "13            9kfreemen   6.500000      1147      328100   \n",
       "15       The_Cpt_FROGGY   7.800000      2217      631920   \n",
       "16                 Mono  14.100000        54      506510   \n",
       "18             Kodyd194   5.000000       181      431320   \n",
       "19  『Hatate Himekaidou』  16.100000       603      745880   \n",
       "20         the_maker988   8.200000        18       35140   \n",
       "21                 Musk   9.500000      1172       35140   \n",
       "23               Wungle   7.600000       617      365560   \n",
       "36        EdenStarGazer  16.799999      1044      631920   \n",
       "\n",
       "                                                 text  early_access  \n",
       "1                               Better than Minecraft         False  \n",
       "2   Still worth playing in 2018.\\nProbably my favo...         False  \n",
       "5   Addictive RPG ! Works fine on linux though it ...         False  \n",
       "7   Finished the game around 6 hours. Thats only t...         False  \n",
       "8   9/10\\nEven after all these years. this game re...         False  \n",
       "12  Cute game with a decent length and some real b...         False  \n",
       "13  Well, I'm about 4 hours into the game, but I t...         False  \n",
       "15  Somewhere on Zibylon:\\n~~~~~~~~~~~~~~~~~~\\nZib...         False  \n",
       "16  A Charming game with colourful pixel graphics ...         False  \n",
       "18  Recourse Demo, overall it seemed pretty beefy ...         False  \n",
       "19            Support your local shrine maiden today!         False  \n",
       "20  This game was way to linear for me, and compar...         False  \n",
       "21                     \"The choke's on you!\"\\n- Joker         False  \n",
       "23                              almost like a puzzle.         False  \n",
       "36  You play the game in 3rd person view as a smal...         False  "
      ]
     },
     "execution_count": 20,
     "metadata": {},
     "output_type": "execute_result"
    }
   ],
   "source": [
    "dato.head(15)"
   ]
  },
  {
   "cell_type": "code",
   "execution_count": 5,
   "metadata": {},
   "outputs": [],
   "source": [
    "data_Rev = data_Rev.drop(['products','early_access','text'],1)"
   ]
  },
  {
   "cell_type": "markdown",
   "metadata": {},
   "source": [
    "### Pretendo implementar un sistema de calificación  que asigne:\n",
    "\n",
    "    1 - si el usuario jugo menos de 5hs.\n",
    "    2 - si el usuario jugo entre 5hs y 15hs.\n",
    "    3 - si el usuario jugo entre 15hs y 60hs. \n",
    "    4 - si el usuario jugo más de 60hs.\n",
    "    \n",
    "Donde **1** representaría la puntuación más baja, es decir, al usuario no le agrado el juego y **4** la puntuación más elevada donde supones que al usuario le encanto el juego."
   ]
  },
  {
   "cell_type": "code",
   "execution_count": 6,
   "metadata": {
    "tags": []
   },
   "outputs": [
    {
     "data": {
      "text/plain": [
       "0    1\n",
       "1    2\n",
       "2    3\n",
       "3    1\n",
       "4    1\n",
       "5    2\n",
       "6    1\n",
       "7    2\n",
       "8    3\n",
       "9    1\n",
       "Name: hours, dtype: int64"
      ]
     },
     "execution_count": 6,
     "metadata": {},
     "output_type": "execute_result"
    }
   ],
   "source": [
    "mask1 = data_Rev.hours < 5\n",
    "califi1 = mask1.map({False:0,True:1})\n",
    "\n",
    "mask2 = np.logical_and(data_Rev.hours < 15,data_Rev.hours >=5)\n",
    "califi2 = mask2.map({False:0,True:2})\n",
    "\n",
    "mask3 = np.logical_and(data_Rev.hours < 60,data_Rev.hours >=15)\n",
    "califi3 = mask3.map({False:0,True:3})\n",
    "\n",
    "mask4 = data_Rev.hours >= 60\n",
    "califi4 = mask4.map({False:0,True:4})\n",
    "\n",
    "califi0 = califi1 + califi2 + califi3 + califi4\n",
    "califi0.head(10)"
   ]
  },
  {
   "cell_type": "code",
   "execution_count": 7,
   "metadata": {},
   "outputs": [],
   "source": [
    "data_Rev['hours'] = califi0.astype(np.uint8)"
   ]
  },
  {
   "cell_type": "code",
   "execution_count": 8,
   "metadata": {},
   "outputs": [
    {
     "data": {
      "text/html": [
       "<div>\n",
       "<style scoped>\n",
       "    .dataframe tbody tr th:only-of-type {\n",
       "        vertical-align: middle;\n",
       "    }\n",
       "\n",
       "    .dataframe tbody tr th {\n",
       "        vertical-align: top;\n",
       "    }\n",
       "\n",
       "    .dataframe thead th {\n",
       "        text-align: right;\n",
       "    }\n",
       "</style>\n",
       "<table border=\"1\" class=\"dataframe\">\n",
       "  <thead>\n",
       "    <tr style=\"text-align: right;\">\n",
       "      <th></th>\n",
       "      <th>username</th>\n",
       "      <th>calification</th>\n",
       "      <th>product_id</th>\n",
       "    </tr>\n",
       "  </thead>\n",
       "  <tbody>\n",
       "    <tr>\n",
       "      <th>0</th>\n",
       "      <td>Chaos Syren</td>\n",
       "      <td>1</td>\n",
       "      <td>725280</td>\n",
       "    </tr>\n",
       "    <tr>\n",
       "      <th>1</th>\n",
       "      <td>hello?&lt;</td>\n",
       "      <td>2</td>\n",
       "      <td>328100</td>\n",
       "    </tr>\n",
       "  </tbody>\n",
       "</table>\n",
       "</div>"
      ],
      "text/plain": [
       "      username  calification  product_id\n",
       "0  Chaos Syren             1      725280\n",
       "1      hello?<             2      328100"
      ]
     },
     "execution_count": 8,
     "metadata": {},
     "output_type": "execute_result"
    }
   ],
   "source": [
    "data_Rev.rename(columns={'hours':'calification'}, inplace=True) \n",
    "data_Rev.head(2)"
   ]
  },
  {
   "cell_type": "markdown",
   "metadata": {},
   "source": [
    "Al tener el dataset preparado, lo guardamos para utilizarlo mas rápidamente."
   ]
  },
  {
   "cell_type": "code",
   "execution_count": 9,
   "metadata": {},
   "outputs": [],
   "source": [
    "if True:\n",
    "    data_Rev.to_csv(r'D:/Acamica/Clases Acamica/Sprint 3/Proyecto/Datos_2_Review.csv', index= False)"
   ]
  },
  {
   "cell_type": "markdown",
   "metadata": {},
   "source": [
    "# Filtro Colaborativo\n",
    "\n",
    "#### Dataset y Train/test split"
   ]
  },
  {
   "cell_type": "code",
   "execution_count": 53,
   "metadata": {},
   "outputs": [],
   "source": [
    "reader = Reader()"
   ]
  },
  {
   "cell_type": "code",
   "execution_count": 54,
   "metadata": {},
   "outputs": [],
   "source": [
    "N_filas = 1500000 # Limitamos el dataset a N_filas\n",
    "\n",
    "data = Dataset.load_from_df(data_Rev[['username', 'product_id', 'calification']][:N_filas], reader)"
   ]
  },
  {
   "cell_type": "code",
   "execution_count": 55,
   "metadata": {},
   "outputs": [],
   "source": [
    "trainset, testset = train_test_split(data, test_size=.25)"
   ]
  },
  {
   "cell_type": "markdown",
   "metadata": {},
   "source": [
    "#### Entrenamiento\n",
    "\n",
    "Comienzo con un modelo por default SVD, para utilizarlo de benchmark."
   ]
  },
  {
   "cell_type": "code",
   "execution_count": 56,
   "metadata": {},
   "outputs": [],
   "source": [
    "algo = SVD()"
   ]
  },
  {
   "cell_type": "code",
   "execution_count": 57,
   "metadata": {},
   "outputs": [
    {
     "data": {
      "text/plain": [
       "<surprise.prediction_algorithms.matrix_factorization.SVD at 0x2989b6c6880>"
      ]
     },
     "execution_count": 57,
     "metadata": {},
     "output_type": "execute_result"
    }
   ],
   "source": [
    "algo.fit(trainset)"
   ]
  },
  {
   "cell_type": "code",
   "execution_count": 58,
   "metadata": {},
   "outputs": [],
   "source": [
    "predictions = algo.test(testset)"
   ]
  },
  {
   "cell_type": "markdown",
   "metadata": {},
   "source": [
    "# Evaluación"
   ]
  },
  {
   "cell_type": "markdown",
   "metadata": {},
   "source": [
    "#### Metrica a Utilizar\n",
    "\n",
    "La métrica con la que evaluare el modelo de regresión es la raíz del error cuadrado promedio (RMSE), es sensible a valores atípicos al igual que el error cuadrado promedio (MSE), puedo trabajar con las mismas unidades y magnitudes que la variable, no así con el MSE al estar elevado al cuadrado. \n",
    "\n",
    "A menor valor de RMSE, mejor es el regresor. En el caso ideal, los errores serán 0."
   ]
  },
  {
   "cell_type": "code",
   "execution_count": 59,
   "metadata": {},
   "outputs": [
    {
     "name": "stdout",
     "output_type": "stream",
     "text": [
      "RMSE: 0.8743\n"
     ]
    },
    {
     "data": {
      "text/plain": [
       "0.874261198243332"
      ]
     },
     "execution_count": 59,
     "metadata": {},
     "output_type": "execute_result"
    }
   ],
   "source": [
    "accuracy.rmse(predictions)"
   ]
  },
  {
   "cell_type": "markdown",
   "metadata": {},
   "source": [
    "#### Optimización de Hiperparametros"
   ]
  },
  {
   "cell_type": "code",
   "execution_count": 150,
   "metadata": {},
   "outputs": [
    {
     "name": "stdout",
     "output_type": "stream",
     "text": [
      "\n",
      "RMSE con factor 1 en el SVD\n",
      "\n",
      "Evaluating RMSE of algorithm SVD on 4 split(s).\n",
      "\n",
      "                  Fold 1  Fold 2  Fold 3  Fold 4  Mean    Std     \n",
      "RMSE (testset)    0.8869  0.8835  0.8855  0.8856  0.8854  0.0012  \n",
      "Fit time          8.74    8.60    9.53    8.50    8.84    0.41    \n",
      "Test time         1.97    1.13    1.54    1.02    1.41    0.37    \n",
      "\n",
      "RMSE con factor 2 en el SVD\n",
      "\n",
      "Evaluating RMSE of algorithm SVD on 4 split(s).\n",
      "\n",
      "                  Fold 1  Fold 2  Fold 3  Fold 4  Mean    Std     \n",
      "RMSE (testset)    0.8863  0.8831  0.8842  0.8874  0.8853  0.0017  \n",
      "Fit time          9.13    9.15    9.89    8.89    9.27    0.37    \n",
      "Test time         1.56    0.99    1.62    1.03    1.30    0.29    \n",
      "\n",
      "RMSE con factor 4 en el SVD\n",
      "\n",
      "Evaluating RMSE of algorithm SVD on 4 split(s).\n",
      "\n",
      "                  Fold 1  Fold 2  Fold 3  Fold 4  Mean    Std     \n",
      "RMSE (testset)    0.8847  0.8869  0.8865  0.8834  0.8854  0.0014  \n",
      "Fit time          9.73    9.43    9.88    8.91    9.49    0.37    \n",
      "Test time         1.05    1.52    0.97    1.49    1.25    0.25    \n",
      "\n",
      "RMSE con factor 8 en el SVD\n",
      "\n",
      "Evaluating RMSE of algorithm SVD on 4 split(s).\n",
      "\n",
      "                  Fold 1  Fold 2  Fold 3  Fold 4  Mean    Std     \n",
      "RMSE (testset)    0.8829  0.8849  0.8839  0.8869  0.8846  0.0015  \n",
      "Fit time          10.91   10.94   11.17   10.68   10.92   0.17    \n",
      "Test time         1.12    1.13    1.05    1.57    1.22    0.21    \n",
      "\n",
      "RMSE con factor 16 en el SVD\n",
      "\n",
      "Evaluating RMSE of algorithm SVD on 4 split(s).\n",
      "\n",
      "                  Fold 1  Fold 2  Fold 3  Fold 4  Mean    Std     \n",
      "RMSE (testset)    0.8849  0.8848  0.8849  0.8855  0.8850  0.0003  \n",
      "Fit time          14.14   12.54   13.93   12.73   13.34   0.71    \n",
      "Test time         1.05    0.98    1.06    1.58    1.17    0.24    \n",
      "\n",
      "RMSE con factor 32 en el SVD\n",
      "\n",
      "Evaluating RMSE of algorithm SVD on 4 split(s).\n",
      "\n",
      "                  Fold 1  Fold 2  Fold 3  Fold 4  Mean    Std     \n",
      "RMSE (testset)    0.8832  0.8863  0.8840  0.8853  0.8847  0.0012  \n",
      "Fit time          16.48   16.34   16.81   16.16   16.45   0.24    \n",
      "Test time         1.00    1.60    1.07    1.62    1.32    0.29    \n"
     ]
    }
   ],
   "source": [
    "from surprise.model_selection import cross_validate\n",
    "\n",
    "rmse_test_means = []\n",
    "factores = [ 1, 2, 4, 8, 16, 32, 64]\n",
    "\n",
    "for i in factores:\n",
    "    print('\\nRMSE con factor', i,'en el SVD\\n')\n",
    "    algo = SVD(n_factors = i)\n",
    "    cv = cross_validate(algo, data, measures=['RMSE'], cv = 4, verbose=True)\n",
    "    rmse_test_means.append(np.mean(cv['test_rmse']))"
   ]
  },
  {
   "cell_type": "code",
   "execution_count": 151,
   "metadata": {},
   "outputs": [
    {
     "data": {
      "image/png": "[encoded data removed]",
      "text/plain": [
       "<Figure size 432x288 with 1 Axes>"
      ]
     },
     "metadata": {
      "needs_background": "light"
     },
     "output_type": "display_data"
    }
   ],
   "source": [
    "plt.scatter(factores, rmse_test_means)\n",
    "plt.xlabel('Numero de factores')\n",
    "plt.ylabel('Error RMSE')\n",
    "plt.show()"
   ]
  },
  {
   "cell_type": "markdown",
   "metadata": {},
   "source": [
    "Aplico GridSearchCV para buscar valores óptimos, lo realizo con 3 validaciones cruzadas por que demora bastante tiempo. "
   ]
  },
  {
   "cell_type": "code",
   "execution_count": 152,
   "metadata": {},
   "outputs": [],
   "source": [
    "param_grid = {'n_factors': [4,8,15,16],'n_epochs': [15,18,20,23], 'lr_all': [0.002,0.05,0.010,0.1],\n",
    "              'reg_all': [0.01,0.02,0.002,0.4]}\n",
    "gs = GridSearchCV(SVD, param_grid = param_grid, measures=['rmse'], cv=3, n_jobs = -1)\n",
    "gs.fit(data)"
   ]
  },
  {
   "cell_type": "code",
   "execution_count": 153,
   "metadata": {},
   "outputs": [
    {
     "name": "stdout",
     "output_type": "stream",
     "text": [
      "0.8830308087155213\n",
      "{'n_factors': 15, 'n_epochs': 20, 'lr_all': 0.01, 'reg_all': 0.02}\n"
     ]
    }
   ],
   "source": [
    "print(gs.best_score['rmse'])\n",
    "print(gs.best_params['rmse'])"
   ]
  },
  {
   "cell_type": "markdown",
   "metadata": {},
   "source": [
    "Vuelvo a entrenar un SVD con los hiperparametros optimizados."
   ]
  },
  {
   "cell_type": "code",
   "execution_count": 154,
   "metadata": {},
   "outputs": [
    {
     "data": {
      "text/plain": [
       "<surprise.prediction_algorithms.matrix_factorization.SVD at 0x2059be8e040>"
      ]
     },
     "execution_count": 154,
     "metadata": {},
     "output_type": "execute_result"
    }
   ],
   "source": [
    "algo_opt = SVD(n_factors=15, n_epochs=20, lr_all=0.01,reg_all=0.02)\n",
    "algo_opt.fit(trainset)"
   ]
  },
  {
   "cell_type": "code",
   "execution_count": 155,
   "metadata": {},
   "outputs": [],
   "source": [
    "pred = algo_opt.test(testset)"
   ]
  },
  {
   "cell_type": "code",
   "execution_count": 156,
   "metadata": {},
   "outputs": [
    {
     "name": "stdout",
     "output_type": "stream",
     "text": [
      "RMSE: 0.8834\n"
     ]
    },
    {
     "data": {
      "text/plain": [
       "0.8833510771970097"
      ]
     },
     "execution_count": 156,
     "metadata": {},
     "output_type": "execute_result"
    }
   ],
   "source": [
    "accuracy.rmse(pred)"
   ]
  },
  {
   "cell_type": "markdown",
   "metadata": {},
   "source": [
    "#### Obtuvimos una leve mejora en el resultado."
   ]
  },
  {
   "cell_type": "markdown",
   "metadata": {},
   "source": [
    "Probemos si es razonable el resultado viendo que le recomendaria a un usuario"
   ]
  },
  {
   "cell_type": "code",
   "execution_count": 22,
   "metadata": {
    "tags": []
   },
   "outputs": [
    {
     "name": "stdout",
     "output_type": "stream",
     "text": [
      "Calificaciones de Nick\n"
     ]
    },
    {
     "data": {
      "text/html": [
       "<div>\n",
       "<style scoped>\n",
       "    .dataframe tbody tr th:only-of-type {\n",
       "        vertical-align: middle;\n",
       "    }\n",
       "\n",
       "    .dataframe tbody tr th {\n",
       "        vertical-align: top;\n",
       "    }\n",
       "\n",
       "    .dataframe thead th {\n",
       "        text-align: right;\n",
       "    }\n",
       "</style>\n",
       "<table border=\"1\" class=\"dataframe\">\n",
       "  <thead>\n",
       "    <tr style=\"text-align: right;\">\n",
       "      <th></th>\n",
       "      <th>username</th>\n",
       "      <th>calification</th>\n",
       "      <th>product_id</th>\n",
       "      <th>game</th>\n",
       "      <th>genre</th>\n",
       "    </tr>\n",
       "  </thead>\n",
       "  <tbody>\n",
       "    <tr>\n",
       "      <th>0</th>\n",
       "      <td>Nick</td>\n",
       "      <td>3</td>\n",
       "      <td>214560</td>\n",
       "      <td>Mark of the Ninja</td>\n",
       "      <td>['Action', 'Adventure', 'Indie']</td>\n",
       "    </tr>\n",
       "    <tr>\n",
       "      <th>1</th>\n",
       "      <td>Nick</td>\n",
       "      <td>3</td>\n",
       "      <td>350280</td>\n",
       "      <td>LawBreakers</td>\n",
       "      <td>['Action']</td>\n",
       "    </tr>\n",
       "    <tr>\n",
       "      <th>2</th>\n",
       "      <td>Nick</td>\n",
       "      <td>3</td>\n",
       "      <td>17430</td>\n",
       "      <td>Need for Speed Undercover</td>\n",
       "      <td>['Action', 'Racing']</td>\n",
       "    </tr>\n",
       "    <tr>\n",
       "      <th>3</th>\n",
       "      <td>Nick</td>\n",
       "      <td>2</td>\n",
       "      <td>359900</td>\n",
       "      <td>The Incredible Adventures of Van Helsing III</td>\n",
       "      <td>['Action', 'Adventure', 'Indie', 'RPG']</td>\n",
       "    </tr>\n",
       "    <tr>\n",
       "      <th>4</th>\n",
       "      <td>Nick</td>\n",
       "      <td>4</td>\n",
       "      <td>47890</td>\n",
       "      <td>The Sims™ 3</td>\n",
       "      <td>['Simulation']</td>\n",
       "    </tr>\n",
       "  </tbody>\n",
       "</table>\n",
       "</div>"
      ],
      "text/plain": [
       "  username  calification  product_id  \\\n",
       "0     Nick             3      214560   \n",
       "1     Nick             3      350280   \n",
       "2     Nick             3       17430   \n",
       "3     Nick             2      359900   \n",
       "4     Nick             4       47890   \n",
       "\n",
       "                                           game  \\\n",
       "0                             Mark of the Ninja   \n",
       "1                                   LawBreakers   \n",
       "2                     Need for Speed Undercover   \n",
       "3  The Incredible Adventures of Van Helsing III   \n",
       "4                                   The Sims™ 3   \n",
       "\n",
       "                                     genre  \n",
       "0         ['Action', 'Adventure', 'Indie']  \n",
       "1                               ['Action']  \n",
       "2                     ['Action', 'Racing']  \n",
       "3  ['Action', 'Adventure', 'Indie', 'RPG']  \n",
       "4                           ['Simulation']  "
      ]
     },
     "execution_count": 22,
     "metadata": {},
     "output_type": "execute_result"
    }
   ],
   "source": [
    "usuario = 'Nick'\n",
    "calification = 2   # le pedimos peliculas a las que haya puesto 2 o mas puntos\n",
    "df_user = data_Rev[(data_Rev['username'] == usuario) & (data_Rev['calification'] >= calification)]\n",
    "df_user = df_user.reset_index(drop=True)\n",
    "df_user[['game','genre']] = data_Gam[['app_name','genres']].loc[df_user.product_id].values\n",
    "print('Calificaciones de',usuario)\n",
    "df_user.head() \n",
    "#len(df_user.product_id)"
   ]
  },
  {
   "cell_type": "code",
   "execution_count": 33,
   "metadata": {},
   "outputs": [
    {
     "name": "stdout",
     "output_type": "stream",
     "text": [
      "(32133, 2)\n"
     ]
    },
    {
     "data": {
      "text/html": [
       "<div>\n",
       "<style scoped>\n",
       "    .dataframe tbody tr th:only-of-type {\n",
       "        vertical-align: middle;\n",
       "    }\n",
       "\n",
       "    .dataframe tbody tr th {\n",
       "        vertical-align: top;\n",
       "    }\n",
       "\n",
       "    .dataframe thead th {\n",
       "        text-align: right;\n",
       "    }\n",
       "</style>\n",
       "<table border=\"1\" class=\"dataframe\">\n",
       "  <thead>\n",
       "    <tr style=\"text-align: right;\">\n",
       "      <th></th>\n",
       "      <th>genres</th>\n",
       "      <th>app_name</th>\n",
       "    </tr>\n",
       "    <tr>\n",
       "      <th>id</th>\n",
       "      <th></th>\n",
       "      <th></th>\n",
       "    </tr>\n",
       "  </thead>\n",
       "  <tbody>\n",
       "    <tr>\n",
       "      <th>761140</th>\n",
       "      <td>[Action, Casual, Indie, Simulation, Strategy]</td>\n",
       "      <td>Lost Summoner Kitty</td>\n",
       "    </tr>\n",
       "    <tr>\n",
       "      <th>643980</th>\n",
       "      <td>[Free to Play, Indie, RPG, Strategy]</td>\n",
       "      <td>Ironbound</td>\n",
       "    </tr>\n",
       "    <tr>\n",
       "      <th>670290</th>\n",
       "      <td>[Casual, Free to Play, Indie, Simulation, Sports]</td>\n",
       "      <td>Real Pool 3D - Poolians</td>\n",
       "    </tr>\n",
       "    <tr>\n",
       "      <th>767400</th>\n",
       "      <td>[Action, Adventure, Casual]</td>\n",
       "      <td>弹炸人2222</td>\n",
       "    </tr>\n",
       "    <tr>\n",
       "      <th>773570</th>\n",
       "      <td>NaN</td>\n",
       "      <td>Log Challenge</td>\n",
       "    </tr>\n",
       "  </tbody>\n",
       "</table>\n",
       "</div>"
      ],
      "text/plain": [
       "                                                   genres  \\\n",
       "id                                                          \n",
       "761140      [Action, Casual, Indie, Simulation, Strategy]   \n",
       "643980               [Free to Play, Indie, RPG, Strategy]   \n",
       "670290  [Casual, Free to Play, Indie, Simulation, Sports]   \n",
       "767400                        [Action, Adventure, Casual]   \n",
       "773570                                                NaN   \n",
       "\n",
       "                       app_name  \n",
       "id                               \n",
       "761140      Lost Summoner Kitty  \n",
       "643980                Ironbound  \n",
       "670290  Real Pool 3D - Poolians  \n",
       "767400                  弹炸人2222  \n",
       "773570            Log Challenge  "
      ]
     },
     "execution_count": 33,
     "metadata": {},
     "output_type": "execute_result"
    }
   ],
   "source": [
    "#Cargo la lista de juegos \n",
    "recomendaciones_usuario = data_Gam.iloc[:len(data_Gam)].copy()\n",
    "print(recomendaciones_usuario.shape)\n",
    "recomendaciones_usuario.head()\n"
   ]
  },
  {
   "cell_type": "code",
   "execution_count": 34,
   "metadata": {},
   "outputs": [
    {
     "name": "stdout",
     "output_type": "stream",
     "text": [
      "Juegos que probo\n",
      "(477, 3)\n"
     ]
    },
    {
     "data": {
      "text/html": [
       "<div>\n",
       "<style scoped>\n",
       "    .dataframe tbody tr th:only-of-type {\n",
       "        vertical-align: middle;\n",
       "    }\n",
       "\n",
       "    .dataframe tbody tr th {\n",
       "        vertical-align: top;\n",
       "    }\n",
       "\n",
       "    .dataframe thead th {\n",
       "        text-align: right;\n",
       "    }\n",
       "</style>\n",
       "<table border=\"1\" class=\"dataframe\">\n",
       "  <thead>\n",
       "    <tr style=\"text-align: right;\">\n",
       "      <th></th>\n",
       "      <th>username</th>\n",
       "      <th>calification</th>\n",
       "      <th>product_id</th>\n",
       "    </tr>\n",
       "  </thead>\n",
       "  <tbody>\n",
       "    <tr>\n",
       "      <th>0</th>\n",
       "      <td>Nick</td>\n",
       "      <td>3</td>\n",
       "      <td>214560</td>\n",
       "    </tr>\n",
       "    <tr>\n",
       "      <th>1</th>\n",
       "      <td>Nick</td>\n",
       "      <td>3</td>\n",
       "      <td>350280</td>\n",
       "    </tr>\n",
       "    <tr>\n",
       "      <th>2</th>\n",
       "      <td>Nick</td>\n",
       "      <td>1</td>\n",
       "      <td>230050</td>\n",
       "    </tr>\n",
       "    <tr>\n",
       "      <th>3</th>\n",
       "      <td>Nick</td>\n",
       "      <td>1</td>\n",
       "      <td>245150</td>\n",
       "    </tr>\n",
       "    <tr>\n",
       "      <th>4</th>\n",
       "      <td>Nick</td>\n",
       "      <td>3</td>\n",
       "      <td>17430</td>\n",
       "    </tr>\n",
       "  </tbody>\n",
       "</table>\n",
       "</div>"
      ],
      "text/plain": [
       "  username  calification  product_id\n",
       "0     Nick             3      214560\n",
       "1     Nick             3      350280\n",
       "2     Nick             1      230050\n",
       "3     Nick             1      245150\n",
       "4     Nick             3       17430"
      ]
     },
     "execution_count": 34,
     "metadata": {},
     "output_type": "execute_result"
    }
   ],
   "source": [
    "#Juegos que probo el usuario\n",
    "usuario_review = data_Rev[data_Rev['username'] == usuario]\n",
    "print('Juegos que probo')\n",
    "print(usuario_review.shape)\n",
    "usuario_review = usuario_review.reset_index(drop=True)\n",
    "usuario_review.head()"
   ]
  },
  {
   "cell_type": "code",
   "execution_count": 35,
   "metadata": {
    "tags": []
   },
   "outputs": [
    {
     "data": {
      "text/plain": [
       "(31758, 3)"
      ]
     },
     "execution_count": 35,
     "metadata": {},
     "output_type": "execute_result"
    }
   ],
   "source": [
    "#Elimino los juegos que probo para que no se repitan \n",
    "recomendaciones_usuario.drop(usuario_review.product_id, inplace = True)\n",
    "recomendaciones_usuario = recomendaciones_usuario.reset_index()\n",
    "recomendaciones_usuario.shape"
   ]
  },
  {
   "cell_type": "code",
   "execution_count": 36,
   "metadata": {},
   "outputs": [
    {
     "data": {
      "text/html": [
       "<div>\n",
       "<style scoped>\n",
       "    .dataframe tbody tr th:only-of-type {\n",
       "        vertical-align: middle;\n",
       "    }\n",
       "\n",
       "    .dataframe tbody tr th {\n",
       "        vertical-align: top;\n",
       "    }\n",
       "\n",
       "    .dataframe thead th {\n",
       "        text-align: right;\n",
       "    }\n",
       "</style>\n",
       "<table border=\"1\" class=\"dataframe\">\n",
       "  <thead>\n",
       "    <tr style=\"text-align: right;\">\n",
       "      <th></th>\n",
       "      <th>id</th>\n",
       "      <th>genres</th>\n",
       "      <th>app_name</th>\n",
       "    </tr>\n",
       "  </thead>\n",
       "  <tbody>\n",
       "    <tr>\n",
       "      <th>0</th>\n",
       "      <td>761140</td>\n",
       "      <td>[Action, Casual, Indie, Simulation, Strategy]</td>\n",
       "      <td>Lost Summoner Kitty</td>\n",
       "    </tr>\n",
       "  </tbody>\n",
       "</table>\n",
       "</div>"
      ],
      "text/plain": [
       "       id                                         genres             app_name\n",
       "0  761140  [Action, Casual, Indie, Simulation, Strategy]  Lost Summoner Kitty"
      ]
     },
     "execution_count": 36,
     "metadata": {},
     "output_type": "execute_result"
    }
   ],
   "source": [
    "recomendaciones_usuario.head(1)"
   ]
  },
  {
   "cell_type": "code",
   "execution_count": 42,
   "metadata": {
    "collapsed": true,
    "jupyter": {
     "outputs_hidden": true
    },
    "tags": []
   },
   "outputs": [
    {
     "ename": "NameError",
     "evalue": "name 'algo' is not defined",
     "output_type": "error",
     "traceback": [
      "\u001b[1;31m---------------------------------------------------------------------------\u001b[0m",
      "\u001b[1;31mNameError\u001b[0m                                 Traceback (most recent call last)",
      "\u001b[1;32m<ipython-input-42-bd9e78e8eba3>\u001b[0m in \u001b[0;36m<module>\u001b[1;34m\u001b[0m\n\u001b[0;32m      1\u001b[0m \u001b[1;31m#Realizo las predicciones\u001b[0m\u001b[1;33m\u001b[0m\u001b[1;33m\u001b[0m\u001b[1;33m\u001b[0m\u001b[0m\n\u001b[1;32m----> 2\u001b[1;33m recomendaciones_usuario['Estimate_Score'] = recomendaciones_usuario['id'].apply(\n\u001b[0m\u001b[0;32m      3\u001b[0m                                             lambda x: algo.predict(usuario, x).est)\n",
      "\u001b[1;32mD:\\Programas\\Ananconda\\envs\\datascience\\lib\\site-packages\\pandas\\core\\series.py\u001b[0m in \u001b[0;36mapply\u001b[1;34m(self, func, convert_dtype, args, **kwds)\u001b[0m\n\u001b[0;32m   4136\u001b[0m             \u001b[1;32melse\u001b[0m\u001b[1;33m:\u001b[0m\u001b[1;33m\u001b[0m\u001b[1;33m\u001b[0m\u001b[0m\n\u001b[0;32m   4137\u001b[0m                 \u001b[0mvalues\u001b[0m \u001b[1;33m=\u001b[0m \u001b[0mself\u001b[0m\u001b[1;33m.\u001b[0m\u001b[0mastype\u001b[0m\u001b[1;33m(\u001b[0m\u001b[0mobject\u001b[0m\u001b[1;33m)\u001b[0m\u001b[1;33m.\u001b[0m\u001b[0m_values\u001b[0m\u001b[1;33m\u001b[0m\u001b[1;33m\u001b[0m\u001b[0m\n\u001b[1;32m-> 4138\u001b[1;33m                 \u001b[0mmapped\u001b[0m \u001b[1;33m=\u001b[0m \u001b[0mlib\u001b[0m\u001b[1;33m.\u001b[0m\u001b[0mmap_infer\u001b[0m\u001b[1;33m(\u001b[0m\u001b[0mvalues\u001b[0m\u001b[1;33m,\u001b[0m \u001b[0mf\u001b[0m\u001b[1;33m,\u001b[0m \u001b[0mconvert\u001b[0m\u001b[1;33m=\u001b[0m\u001b[0mconvert_dtype\u001b[0m\u001b[1;33m)\u001b[0m\u001b[1;33m\u001b[0m\u001b[1;33m\u001b[0m\u001b[0m\n\u001b[0m\u001b[0;32m   4139\u001b[0m \u001b[1;33m\u001b[0m\u001b[0m\n\u001b[0;32m   4140\u001b[0m         \u001b[1;32mif\u001b[0m \u001b[0mlen\u001b[0m\u001b[1;33m(\u001b[0m\u001b[0mmapped\u001b[0m\u001b[1;33m)\u001b[0m \u001b[1;32mand\u001b[0m \u001b[0misinstance\u001b[0m\u001b[1;33m(\u001b[0m\u001b[0mmapped\u001b[0m\u001b[1;33m[\u001b[0m\u001b[1;36m0\u001b[0m\u001b[1;33m]\u001b[0m\u001b[1;33m,\u001b[0m \u001b[0mSeries\u001b[0m\u001b[1;33m)\u001b[0m\u001b[1;33m:\u001b[0m\u001b[1;33m\u001b[0m\u001b[1;33m\u001b[0m\u001b[0m\n",
      "\u001b[1;32mpandas\\_libs\\lib.pyx\u001b[0m in \u001b[0;36mpandas._libs.lib.map_infer\u001b[1;34m()\u001b[0m\n",
      "\u001b[1;32m<ipython-input-42-bd9e78e8eba3>\u001b[0m in \u001b[0;36m<lambda>\u001b[1;34m(x)\u001b[0m\n\u001b[0;32m      1\u001b[0m \u001b[1;31m#Realizo las predicciones\u001b[0m\u001b[1;33m\u001b[0m\u001b[1;33m\u001b[0m\u001b[1;33m\u001b[0m\u001b[0m\n\u001b[0;32m      2\u001b[0m recomendaciones_usuario['Estimate_Score'] = recomendaciones_usuario['id'].apply(\n\u001b[1;32m----> 3\u001b[1;33m                                             lambda x: algo.predict(usuario, x).est)\n\u001b[0m",
      "\u001b[1;31mNameError\u001b[0m: name 'algo' is not defined"
     ]
    }
   ],
   "source": [
    "#Realizo las predicciones \n",
    "recomendaciones_usuario['Estimate_Score'] = recomendaciones_usuario['id'].apply(\n",
    "                                            lambda x: algo_opt.predict(usuario, x).est)"
   ]
  },
  {
   "cell_type": "code",
   "execution_count": 41,
   "metadata": {
    "collapsed": true,
    "jupyter": {
     "outputs_hidden": true
    },
    "tags": []
   },
   "outputs": [
    {
     "ename": "KeyError",
     "evalue": "'Estimate_Score'",
     "output_type": "error",
     "traceback": [
      "\u001b[1;31m---------------------------------------------------------------------------\u001b[0m",
      "\u001b[1;31mKeyError\u001b[0m                                  Traceback (most recent call last)",
      "\u001b[1;32m<ipython-input-41-69014b10497c>\u001b[0m in \u001b[0;36m<module>\u001b[1;34m\u001b[0m\n\u001b[1;32m----> 1\u001b[1;33m \u001b[0mrecomendaciones_usuario\u001b[0m \u001b[1;33m=\u001b[0m \u001b[0mrecomendaciones_usuario\u001b[0m\u001b[1;33m.\u001b[0m\u001b[0msort_values\u001b[0m\u001b[1;33m(\u001b[0m\u001b[1;34m'Estimate_Score'\u001b[0m\u001b[1;33m,\u001b[0m \u001b[0mascending\u001b[0m\u001b[1;33m=\u001b[0m\u001b[1;32mFalse\u001b[0m\u001b[1;33m)\u001b[0m\u001b[1;33m\u001b[0m\u001b[1;33m\u001b[0m\u001b[0m\n\u001b[0m\u001b[0;32m      2\u001b[0m \u001b[0mrecomendaciones_usuario\u001b[0m\u001b[1;33m.\u001b[0m\u001b[0mhead\u001b[0m\u001b[1;33m(\u001b[0m\u001b[1;33m)\u001b[0m\u001b[1;33m\u001b[0m\u001b[1;33m\u001b[0m\u001b[0m\n",
      "\u001b[1;32mD:\\Programas\\Ananconda\\envs\\datascience\\lib\\site-packages\\pandas\\core\\frame.py\u001b[0m in \u001b[0;36msort_values\u001b[1;34m(self, by, axis, ascending, inplace, kind, na_position, ignore_index, key)\u001b[0m\n\u001b[0;32m   5453\u001b[0m \u001b[1;33m\u001b[0m\u001b[0m\n\u001b[0;32m   5454\u001b[0m             \u001b[0mby\u001b[0m \u001b[1;33m=\u001b[0m \u001b[0mby\u001b[0m\u001b[1;33m[\u001b[0m\u001b[1;36m0\u001b[0m\u001b[1;33m]\u001b[0m\u001b[1;33m\u001b[0m\u001b[1;33m\u001b[0m\u001b[0m\n\u001b[1;32m-> 5455\u001b[1;33m             \u001b[0mk\u001b[0m \u001b[1;33m=\u001b[0m \u001b[0mself\u001b[0m\u001b[1;33m.\u001b[0m\u001b[0m_get_label_or_level_values\u001b[0m\u001b[1;33m(\u001b[0m\u001b[0mby\u001b[0m\u001b[1;33m,\u001b[0m \u001b[0maxis\u001b[0m\u001b[1;33m=\u001b[0m\u001b[0maxis\u001b[0m\u001b[1;33m)\u001b[0m\u001b[1;33m\u001b[0m\u001b[1;33m\u001b[0m\u001b[0m\n\u001b[0m\u001b[0;32m   5456\u001b[0m \u001b[1;33m\u001b[0m\u001b[0m\n\u001b[0;32m   5457\u001b[0m             \u001b[1;31m# need to rewrap column in Series to apply key function\u001b[0m\u001b[1;33m\u001b[0m\u001b[1;33m\u001b[0m\u001b[1;33m\u001b[0m\u001b[0m\n",
      "\u001b[1;32mD:\\Programas\\Ananconda\\envs\\datascience\\lib\\site-packages\\pandas\\core\\generic.py\u001b[0m in \u001b[0;36m_get_label_or_level_values\u001b[1;34m(self, key, axis)\u001b[0m\n\u001b[0;32m   1682\u001b[0m             \u001b[0mvalues\u001b[0m \u001b[1;33m=\u001b[0m \u001b[0mself\u001b[0m\u001b[1;33m.\u001b[0m\u001b[0maxes\u001b[0m\u001b[1;33m[\u001b[0m\u001b[0maxis\u001b[0m\u001b[1;33m]\u001b[0m\u001b[1;33m.\u001b[0m\u001b[0mget_level_values\u001b[0m\u001b[1;33m(\u001b[0m\u001b[0mkey\u001b[0m\u001b[1;33m)\u001b[0m\u001b[1;33m.\u001b[0m\u001b[0m_values\u001b[0m\u001b[1;33m\u001b[0m\u001b[1;33m\u001b[0m\u001b[0m\n\u001b[0;32m   1683\u001b[0m         \u001b[1;32melse\u001b[0m\u001b[1;33m:\u001b[0m\u001b[1;33m\u001b[0m\u001b[1;33m\u001b[0m\u001b[0m\n\u001b[1;32m-> 1684\u001b[1;33m             \u001b[1;32mraise\u001b[0m \u001b[0mKeyError\u001b[0m\u001b[1;33m(\u001b[0m\u001b[0mkey\u001b[0m\u001b[1;33m)\u001b[0m\u001b[1;33m\u001b[0m\u001b[1;33m\u001b[0m\u001b[0m\n\u001b[0m\u001b[0;32m   1685\u001b[0m \u001b[1;33m\u001b[0m\u001b[0m\n\u001b[0;32m   1686\u001b[0m         \u001b[1;31m# Check for duplicates\u001b[0m\u001b[1;33m\u001b[0m\u001b[1;33m\u001b[0m\u001b[1;33m\u001b[0m\u001b[0m\n",
      "\u001b[1;31mKeyError\u001b[0m: 'Estimate_Score'"
     ]
    }
   ],
   "source": [
    "recomendaciones_usuario = recomendaciones_usuario.sort_values('Estimate_Score', ascending=False)\n",
    "recomendaciones_usuario.head(15)"
   ]
  },
  {
   "cell_type": "code",
   "execution_count": 43,
   "metadata": {},
   "outputs": [
    {
     "data": {
      "text/html": [
       "<div>\n",
       "<style scoped>\n",
       "    .dataframe tbody tr th:only-of-type {\n",
       "        vertical-align: middle;\n",
       "    }\n",
       "\n",
       "    .dataframe tbody tr th {\n",
       "        vertical-align: top;\n",
       "    }\n",
       "\n",
       "    .dataframe thead th {\n",
       "        text-align: right;\n",
       "    }\n",
       "</style>\n",
       "<table border=\"1\" class=\"dataframe\">\n",
       "  <thead>\n",
       "    <tr style=\"text-align: right;\">\n",
       "      <th></th>\n",
       "      <th>username</th>\n",
       "      <th>calification</th>\n",
       "      <th>product_id</th>\n",
       "      <th>game</th>\n",
       "      <th>genre</th>\n",
       "    </tr>\n",
       "  </thead>\n",
       "  <tbody>\n",
       "    <tr>\n",
       "      <th>65</th>\n",
       "      <td>Nick</td>\n",
       "      <td>4</td>\n",
       "      <td>4000</td>\n",
       "      <td>Garry's Mod</td>\n",
       "      <td>['Indie', 'Simulation']</td>\n",
       "    </tr>\n",
       "    <tr>\n",
       "      <th>10</th>\n",
       "      <td>Nick</td>\n",
       "      <td>4</td>\n",
       "      <td>271590</td>\n",
       "      <td>Grand Theft Auto V</td>\n",
       "      <td>['Action', 'Adventure']</td>\n",
       "    </tr>\n",
       "    <tr>\n",
       "      <th>37</th>\n",
       "      <td>Nick</td>\n",
       "      <td>4</td>\n",
       "      <td>224820</td>\n",
       "      <td>Super House of Dead Ninjas</td>\n",
       "      <td>['Action', 'Indie']</td>\n",
       "    </tr>\n",
       "    <tr>\n",
       "      <th>21</th>\n",
       "      <td>Nick</td>\n",
       "      <td>4</td>\n",
       "      <td>9900</td>\n",
       "      <td>Star Trek Online</td>\n",
       "      <td>['Free to Play', 'Massively Multiplayer', 'RPG']</td>\n",
       "    </tr>\n",
       "    <tr>\n",
       "      <th>147</th>\n",
       "      <td>Nick</td>\n",
       "      <td>4</td>\n",
       "      <td>3900</td>\n",
       "      <td>Sid Meier's Civilization® IV</td>\n",
       "      <td>['Strategy']</td>\n",
       "    </tr>\n",
       "    <tr>\n",
       "      <th>274</th>\n",
       "      <td>Nick</td>\n",
       "      <td>4</td>\n",
       "      <td>201230</td>\n",
       "      <td>EverQuest® II Free-To-Play. Your Way.™</td>\n",
       "      <td>['Free to Play', 'Massively Multiplayer', 'RPG']</td>\n",
       "    </tr>\n",
       "    <tr>\n",
       "      <th>281</th>\n",
       "      <td>Nick</td>\n",
       "      <td>4</td>\n",
       "      <td>236870</td>\n",
       "      <td>HITMAN™</td>\n",
       "      <td>['Action']</td>\n",
       "    </tr>\n",
       "    <tr>\n",
       "      <th>276</th>\n",
       "      <td>Nick</td>\n",
       "      <td>4</td>\n",
       "      <td>49520</td>\n",
       "      <td>Borderlands 2</td>\n",
       "      <td>['Action', 'RPG']</td>\n",
       "    </tr>\n",
       "    <tr>\n",
       "      <th>15</th>\n",
       "      <td>Nick</td>\n",
       "      <td>4</td>\n",
       "      <td>271590</td>\n",
       "      <td>Grand Theft Auto V</td>\n",
       "      <td>['Action', 'Adventure']</td>\n",
       "    </tr>\n",
       "    <tr>\n",
       "      <th>117</th>\n",
       "      <td>Nick</td>\n",
       "      <td>4</td>\n",
       "      <td>8980</td>\n",
       "      <td>Borderlands</td>\n",
       "      <td>['Action', 'RPG']</td>\n",
       "    </tr>\n",
       "    <tr>\n",
       "      <th>280</th>\n",
       "      <td>Nick</td>\n",
       "      <td>4</td>\n",
       "      <td>236870</td>\n",
       "      <td>HITMAN™</td>\n",
       "      <td>['Action']</td>\n",
       "    </tr>\n",
       "    <tr>\n",
       "      <th>12</th>\n",
       "      <td>Nick</td>\n",
       "      <td>4</td>\n",
       "      <td>488790</td>\n",
       "      <td>South Park™: The Fractured But Whole™</td>\n",
       "      <td>['RPG']</td>\n",
       "    </tr>\n",
       "    <tr>\n",
       "      <th>151</th>\n",
       "      <td>Nick</td>\n",
       "      <td>4</td>\n",
       "      <td>440</td>\n",
       "      <td>Team Fortress 2</td>\n",
       "      <td>['Action', 'Free to Play']</td>\n",
       "    </tr>\n",
       "    <tr>\n",
       "      <th>86</th>\n",
       "      <td>Nick</td>\n",
       "      <td>4</td>\n",
       "      <td>289650</td>\n",
       "      <td>Assassin's Creed® Unity</td>\n",
       "      <td>['Action', 'Adventure']</td>\n",
       "    </tr>\n",
       "    <tr>\n",
       "      <th>40</th>\n",
       "      <td>Nick</td>\n",
       "      <td>4</td>\n",
       "      <td>322330</td>\n",
       "      <td>Don't Starve Together</td>\n",
       "      <td>['Adventure', 'Indie', 'Simulation']</td>\n",
       "    </tr>\n",
       "  </tbody>\n",
       "</table>\n",
       "</div>"
      ],
      "text/plain": [
       "    username  calification  product_id  \\\n",
       "65      Nick             4        4000   \n",
       "10      Nick             4      271590   \n",
       "37      Nick             4      224820   \n",
       "21      Nick             4        9900   \n",
       "147     Nick             4        3900   \n",
       "274     Nick             4      201230   \n",
       "281     Nick             4      236870   \n",
       "276     Nick             4       49520   \n",
       "15      Nick             4      271590   \n",
       "117     Nick             4        8980   \n",
       "280     Nick             4      236870   \n",
       "12      Nick             4      488790   \n",
       "151     Nick             4         440   \n",
       "86      Nick             4      289650   \n",
       "40      Nick             4      322330   \n",
       "\n",
       "                                       game  \\\n",
       "65                              Garry's Mod   \n",
       "10                       Grand Theft Auto V   \n",
       "37               Super House of Dead Ninjas   \n",
       "21                         Star Trek Online   \n",
       "147            Sid Meier's Civilization® IV   \n",
       "274  EverQuest® II Free-To-Play. Your Way.™   \n",
       "281                                 HITMAN™   \n",
       "276                           Borderlands 2   \n",
       "15                       Grand Theft Auto V   \n",
       "117                             Borderlands   \n",
       "280                                 HITMAN™   \n",
       "12    South Park™: The Fractured But Whole™   \n",
       "151                         Team Fortress 2   \n",
       "86                  Assassin's Creed® Unity   \n",
       "40                    Don't Starve Together   \n",
       "\n",
       "                                                genre  \n",
       "65                            ['Indie', 'Simulation']  \n",
       "10                            ['Action', 'Adventure']  \n",
       "37                                ['Action', 'Indie']  \n",
       "21   ['Free to Play', 'Massively Multiplayer', 'RPG']  \n",
       "147                                      ['Strategy']  \n",
       "274  ['Free to Play', 'Massively Multiplayer', 'RPG']  \n",
       "281                                        ['Action']  \n",
       "276                                 ['Action', 'RPG']  \n",
       "15                            ['Action', 'Adventure']  \n",
       "117                                 ['Action', 'RPG']  \n",
       "280                                        ['Action']  \n",
       "12                                            ['RPG']  \n",
       "151                        ['Action', 'Free to Play']  \n",
       "86                            ['Action', 'Adventure']  \n",
       "40               ['Adventure', 'Indie', 'Simulation']  "
      ]
     },
     "execution_count": 43,
     "metadata": {},
     "output_type": "execute_result"
    }
   ],
   "source": [
    "df_user = df_user.sort_values('calification',ascending = False)\n",
    "df_user.head(15)"
   ]
  },
  {
   "cell_type": "markdown",
   "metadata": {},
   "source": [
    "Evaluando los juegos y los generos que el usuario probó, los resultados parecen razonables, el sístema de recomendacion le muestra juegos de acción, RPG, simulación y estrategia."
   ]
  },
  {
   "cell_type": "markdown",
   "metadata": {},
   "source": [
    "### Investigación"
   ]
  },
  {
   "cell_type": "markdown",
   "metadata": {},
   "source": [
    "Este Sístema de Recomendación es simple pero a la vez funcional, para su desarrolo continuaria:\n",
    "\n",
    "- Realizando una mejora en la forma de otorgar valor a la calificación con variables que esten correlacionadas y pueda lograr plasmarlo en los valores, así lograr algo más sólido que solo el uso horario del juego.\n",
    "- Aumentando la cantidad de datos procesados, por que al momento de probarlo con 2597690 reviews solo el 49.29% de los usuarios realizaron una review del juego, lo que me genera el problema de arranque en frío.\n",
    "- Una opción al tener 2597690 y el 49.29% de usuarios con mas de un review es eliminar los que solo tuvieron un acercamiento con los review.\n",
    "- Expandiendo el análisis con la implementación de un metodo hibrido entre un filtro colaborativo y un filtro basado en contenido, donde en algunos analisis se ha demostrado ser mejor que el filtro colaborativo solo (https://www.kaggle.com/gspmoreira/recommender-systems-in-python-101/notebook).\n"
   ]
  }
 ],
 "metadata": {
  "colab": {
   "collapsed_sections": [],
   "name": "DS_Proyecto_03_SR.ipynb",
   "provenance": []
  },
  "kernelspec": {
   "display_name": "Python 3",
   "language": "python",
   "name": "python3"
  },
  "language_info": {
   "codemirror_mode": {
    "name": "ipython",
    "version": 3
   },
   "file_extension": ".py",
   "mimetype": "text/x-python",
   "name": "python",
   "nbconvert_exporter": "python",
   "pygments_lexer": "ipython3",
   "version": "3.9.5"
  }
 },
 "nbformat": 4,
 "nbformat_minor": 4
}
